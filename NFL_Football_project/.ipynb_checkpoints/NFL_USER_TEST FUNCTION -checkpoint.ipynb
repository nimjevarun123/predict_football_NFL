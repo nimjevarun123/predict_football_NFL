{
 "cells": [
  {
   "cell_type": "code",
   "execution_count": 1,
   "id": "6ccff93c",
   "metadata": {},
   "outputs": [],
   "source": [
    "import pandas as pd \n",
    "import numpy as np \n",
    "import pickle \n",
    "import json"
   ]
  },
  {
   "cell_type": "code",
   "execution_count": 57,
   "id": "374b2fe5",
   "metadata": {},
   "outputs": [
    {
     "data": {
      "text/plain": [
       "Index(['Team', 'WinLoss perc', 'PD', 'Year', 'FGM', 'FG_perc', 'RedZone_perc',\n",
       "       'playoff_win_perc', 'Score_perc', 'Turnover_perc', 'RushYperG',\n",
       "       'PassYperG', 'PointperG', 'possperG', 'YallowedperG',\n",
       "       'PointallowedperG', 'perc_punt_20', 'Result'],\n",
       "      dtype='object')"
      ]
     },
     "execution_count": 57,
     "metadata": {},
     "output_type": "execute_result"
    }
   ],
   "source": [
    "nfl = pd.read_csv(\"NFL_data.csv\")\n",
    "nfl.columns"
   ]
  },
  {
   "cell_type": "code",
   "execution_count": 17,
   "id": "e5b1d950",
   "metadata": {},
   "outputs": [
    {
     "data": {
      "text/html": [
       "<div>\n",
       "<style scoped>\n",
       "    .dataframe tbody tr th:only-of-type {\n",
       "        vertical-align: middle;\n",
       "    }\n",
       "\n",
       "    .dataframe tbody tr th {\n",
       "        vertical-align: top;\n",
       "    }\n",
       "\n",
       "    .dataframe thead th {\n",
       "        text-align: right;\n",
       "    }\n",
       "</style>\n",
       "<table border=\"1\" class=\"dataframe\">\n",
       "  <thead>\n",
       "    <tr style=\"text-align: right;\">\n",
       "      <th></th>\n",
       "      <th>Team</th>\n",
       "      <th>WinLoss perc</th>\n",
       "      <th>PD</th>\n",
       "      <th>Year</th>\n",
       "      <th>FGM</th>\n",
       "      <th>FG_perc</th>\n",
       "      <th>RedZone_perc</th>\n",
       "      <th>playoff_win_perc</th>\n",
       "      <th>Score_perc</th>\n",
       "      <th>Turnover_perc</th>\n",
       "      <th>RushYperG</th>\n",
       "      <th>PassYperG</th>\n",
       "      <th>PointperG</th>\n",
       "      <th>possperG</th>\n",
       "      <th>YallowedperG</th>\n",
       "      <th>PointallowedperG</th>\n",
       "      <th>perc_punt_20</th>\n",
       "      <th>Result</th>\n",
       "    </tr>\n",
       "  </thead>\n",
       "  <tbody>\n",
       "    <tr>\n",
       "      <th>383</th>\n",
       "      <td>Seattle Seahawks</td>\n",
       "      <td>41.2</td>\n",
       "      <td>29</td>\n",
       "      <td>2021</td>\n",
       "      <td>17</td>\n",
       "      <td>73.9</td>\n",
       "      <td>64.6</td>\n",
       "      <td>0.0</td>\n",
       "      <td>34.8</td>\n",
       "      <td>7.0</td>\n",
       "      <td>122.0</td>\n",
       "      <td>201.9</td>\n",
       "      <td>23.2</td>\n",
       "      <td>0.425833</td>\n",
       "      <td>379.1</td>\n",
       "      <td>21.5</td>\n",
       "      <td>48.2</td>\n",
       "      <td>Loss</td>\n",
       "    </tr>\n",
       "  </tbody>\n",
       "</table>\n",
       "</div>"
      ],
      "text/plain": [
       "                 Team  WinLoss perc  PD  Year  FGM  FG_perc  RedZone_perc  \\\n",
       "383  Seattle Seahawks          41.2  29  2021   17     73.9          64.6   \n",
       "\n",
       "     playoff_win_perc  Score_perc  Turnover_perc  RushYperG  PassYperG  \\\n",
       "383               0.0        34.8            7.0      122.0      201.9   \n",
       "\n",
       "     PointperG  possperG  YallowedperG  PointallowedperG  perc_punt_20 Result  \n",
       "383       23.2  0.425833         379.1              21.5          48.2   Loss  "
      ]
     },
     "execution_count": 17,
     "metadata": {},
     "output_type": "execute_result"
    }
   ],
   "source": [
    "nfl.tail(1)"
   ]
  },
  {
   "cell_type": "code",
   "execution_count": 55,
   "id": "7f86e5f5",
   "metadata": {},
   "outputs": [
    {
     "name": "stdout",
     "output_type": "stream",
     "text": [
      "[['Seattle Seahawks', 41.2, 29, 2021, 17, 73.9, 64.6, 0.0, 34.8, 7.0, 122.0, 201.9, 23.2, 0.425833333333333, 379.1, 21.5, 48.2, 'Loss']]\n"
     ]
    }
   ],
   "source": [
    "print ((nfl.tail(1).values.tolist()))"
   ]
  },
  {
   "cell_type": "code",
   "execution_count": 1,
   "id": "0da9b557",
   "metadata": {},
   "outputs": [
    {
     "ename": "FileNotFoundError",
     "evalue": "[Errno 2] No such file or directory: 'binary_clas_model.pkl'",
     "output_type": "error",
     "traceback": [
      "\u001b[1;31m---------------------------------------------------------------------------\u001b[0m",
      "\u001b[1;31mFileNotFoundError\u001b[0m                         Traceback (most recent call last)",
      "Input \u001b[1;32mIn [1]\u001b[0m, in \u001b[0;36m<cell line: 1>\u001b[1;34m()\u001b[0m\n\u001b[1;32m----> 1\u001b[0m \u001b[38;5;28;01mwith\u001b[39;00m \u001b[38;5;28;43mopen\u001b[39;49m\u001b[43m(\u001b[49m\u001b[38;5;124;43m\"\u001b[39;49m\u001b[38;5;124;43mbinary_clas_model.pkl\u001b[39;49m\u001b[38;5;124;43m\"\u001b[39;49m\u001b[43m,\u001b[49m\u001b[38;5;124;43m\"\u001b[39;49m\u001b[38;5;124;43mrb\u001b[39;49m\u001b[38;5;124;43m\"\u001b[39;49m\u001b[43m)\u001b[49m \u001b[38;5;28;01mas\u001b[39;00m m_file:\n\u001b[0;32m      2\u001b[0m     bmodel \u001b[38;5;241m=\u001b[39m pickle\u001b[38;5;241m.\u001b[39mload(m_file)\n\u001b[0;32m      5\u001b[0m \u001b[38;5;28;01mwith\u001b[39;00m \u001b[38;5;28mopen\u001b[39m(\u001b[38;5;124m'\u001b[39m\u001b[38;5;124mInput_Features.json\u001b[39m\u001b[38;5;124m'\u001b[39m,\u001b[38;5;124m'\u001b[39m\u001b[38;5;124mr\u001b[39m\u001b[38;5;124m'\u001b[39m) \u001b[38;5;28;01mas\u001b[39;00m in_file: \n",
      "\u001b[1;31mFileNotFoundError\u001b[0m: [Errno 2] No such file or directory: 'binary_clas_model.pkl'"
     ]
    }
   ],
   "source": [
    "with open(r\"artifacts/binary_clas_model.pkl\",\"rb\") as m_file:\n",
    "    bmodel = pickle.load(m_file)\n",
    "    \n",
    "\n",
    "with open('artifacts/Input_Features.json','r') as in_file: \n",
    "    input_featues = json.load(in_file)\n",
    "    \n",
    "user_input = np.zeros(len(input_featues['input_features']))    \n",
    "# print(user_input)\n",
    "\n",
    "array = np.array(input_featues['input_features'])\n",
    "\n",
    "\n",
    "Team = 'Seattle Seahawks'\n",
    "WinLoss_perc = 41.2\n",
    "PD  =    29\n",
    "Year =     2021\n",
    "FGM   =   17\n",
    "FG_perc =   73.9    \n",
    "RedZone_perc =  64.6   \n",
    "playoff_win_perc =  0.0   \n",
    "Score_perc      = 34.8\n",
    "Turnover_perc    =  7.0\n",
    "RushYperG   =122.0\n",
    "PassYperG    =  201.9\n",
    "PointperG     = 23.2\n",
    "possperG      =0.425\n",
    "YallowedperG   = 379.1\n",
    "PointallowedperG =    25.5  \n",
    "perc_punt_20  = 48.2\n",
    "\n",
    "\n",
    "\n",
    "# team_string = \"Team_\"+Team\n",
    "# Team_index = np.where(array == team_string)[0]\n",
    "# user_input[Team_index] = 1\n",
    "\n",
    "user_input[0] = WinLoss_perc\n",
    "user_input[1] =PD\n",
    "user_input[2] = Year\n",
    "user_input[3] =FGM\n",
    "user_input[4]=FG_perc\n",
    "user_input[5]=RedZone_perc\n",
    "user_input[6]=playoff_win_perc\n",
    "user_input[7]=Score_perc\n",
    "user_input[8]=Turnover_perc\n",
    "user_input[9]=RushYperG\n",
    "user_input[10]=PassYperG\n",
    "user_input[11]=PointperG\n",
    "user_input[12]=possperG\n",
    "user_input[13]=YallowedperG\n",
    "user_input[14]=PointallowedperG\n",
    "user_input[15]=perc_punt_20\n",
    "\n",
    "print ()\n",
    "print (user_input)\n",
    "print ()\n",
    "\n",
    "Match_Result = bmodel.predict([user_input])\n",
    "# print (Match_Result)\n",
    "\n",
    "if Match_Result==0:\n",
    "    print (\"\\U0001F499Loss\")\n",
    "else:\n",
    "    print (\"\\U0001F499Win\")"
   ]
  },
  {
   "cell_type": "markdown",
   "id": "bb68452c",
   "metadata": {},
   "source": [
    "# Explanation of above "
   ]
  },
  {
   "cell_type": "code",
   "execution_count": 36,
   "id": "bb06a209",
   "metadata": {},
   "outputs": [],
   "source": [
    "team_string = \"Team_\"+Team"
   ]
  },
  {
   "cell_type": "code",
   "execution_count": 37,
   "id": "66f2af87",
   "metadata": {},
   "outputs": [
    {
     "data": {
      "text/plain": [
       "'Team_Seattle Seahawks'"
      ]
     },
     "execution_count": 37,
     "metadata": {},
     "output_type": "execute_result"
    }
   ],
   "source": [
    "team_string"
   ]
  },
  {
   "cell_type": "code",
   "execution_count": 38,
   "id": "594245aa",
   "metadata": {},
   "outputs": [],
   "source": [
    "array = np.array(input_featues['input_features'])"
   ]
  },
  {
   "cell_type": "code",
   "execution_count": 39,
   "id": "8b89256f",
   "metadata": {},
   "outputs": [
    {
     "data": {
      "text/plain": [
       "array(['WinLoss perc', 'PD', 'Year', 'FGM', 'FG_perc', 'RedZone_perc',\n",
       "       'playoff_win_perc', 'Score_perc', 'Turnover_perc', 'RushYperG',\n",
       "       'PassYperG', 'PointperG', 'possperG', 'YallowedperG',\n",
       "       'PointallowedperG', 'perc_punt_20', 'Team_Arizona Cardinals',\n",
       "       'Team_Atlanta Falcons', 'Team_Baltimore Ravens',\n",
       "       'Team_Buffalo Bills', 'Team_Carolina Panthers',\n",
       "       'Team_Chicago Bears', 'Team_Cincinnati Bengals',\n",
       "       'Team_Cleveland Browns', 'Team_Dallas Cowboys',\n",
       "       'Team_Denver Broncos', 'Team_Detroit Lions',\n",
       "       'Team_Green Bay Packers', 'Team_Houston Texans',\n",
       "       'Team_Indianapolis Colts', 'Team_Jacksonville Jaguars',\n",
       "       'Team_Kansas City Chiefs', 'Team_Las Vegas Raiders',\n",
       "       'Team_Los Angeles Chargers', 'Team_Los Angeles Rams',\n",
       "       'Team_Miami Dolphins', 'Team_Minnesota Vikings',\n",
       "       'Team_New England Patriots', 'Team_New Orleans Saints',\n",
       "       'Team_New York Giants', 'Team_New York Jets',\n",
       "       'Team_Philadelphia Eagles', 'Team_Pittsburgh Steelers',\n",
       "       'Team_San Francisco 49ers', 'Team_Seattle Seahawks',\n",
       "       'Team_Tampa Bay Buccaneers', 'Team_Tennessee Titans',\n",
       "       'Team_Washington Commanders'], dtype='<U26')"
      ]
     },
     "execution_count": 39,
     "metadata": {},
     "output_type": "execute_result"
    }
   ],
   "source": [
    "array"
   ]
  },
  {
   "cell_type": "code",
   "execution_count": 40,
   "id": "5b722395",
   "metadata": {},
   "outputs": [
    {
     "data": {
      "text/plain": [
       "44"
      ]
     },
     "execution_count": 40,
     "metadata": {},
     "output_type": "execute_result"
    }
   ],
   "source": [
    "Team_index = np.where(array == team_string)[0]\n",
    "Team_index[0]"
   ]
  },
  {
   "cell_type": "code",
   "execution_count": 74,
   "id": "705fa9c2",
   "metadata": {},
   "outputs": [
    {
     "data": {
      "text/plain": [
       "1.0"
      ]
     },
     "execution_count": 74,
     "metadata": {},
     "output_type": "execute_result"
    }
   ],
   "source": [
    "team_string = \"Team_\"+Team\n",
    "Team_index = np.where(array == team_string)[0][0]\n",
    "user_input[Team_index]\n"
   ]
  },
  {
   "cell_type": "code",
   "execution_count": null,
   "id": "d71f286c",
   "metadata": {},
   "outputs": [],
   "source": []
  },
  {
   "cell_type": "code",
   "execution_count": null,
   "id": "2b283697",
   "metadata": {},
   "outputs": [],
   "source": []
  }
 ],
 "metadata": {
  "kernelspec": {
   "display_name": "Python 3 (ipykernel)",
   "language": "python",
   "name": "python3"
  },
  "language_info": {
   "codemirror_mode": {
    "name": "ipython",
    "version": 3
   },
   "file_extension": ".py",
   "mimetype": "text/x-python",
   "name": "python",
   "nbconvert_exporter": "python",
   "pygments_lexer": "ipython3",
   "version": "3.9.12"
  }
 },
 "nbformat": 4,
 "nbformat_minor": 5
}
