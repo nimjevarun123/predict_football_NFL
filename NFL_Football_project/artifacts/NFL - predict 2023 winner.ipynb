{
 "cells": [
  {
   "cell_type": "code",
   "execution_count": 31,
   "id": "a7420380",
   "metadata": {},
   "outputs": [],
   "source": [
    "import numpy as np\n",
    "import pandas as pd \n",
    "import pickle\n",
    "import json\n",
    "\n",
    "from sklearn.model_selection import train_test_split\n",
    "from sklearn.linear_model import LogisticRegression , LinearRegression\n",
    "from sklearn.metrics import accuracy_score , confusion_matrix, classification_report\n"
   ]
  },
  {
   "cell_type": "markdown",
   "id": "ce3a85aa",
   "metadata": {},
   "source": [
    "# 1. Problem statement"
   ]
  },
  {
   "cell_type": "markdown",
   "id": "27b369e3",
   "metadata": {},
   "source": [
    "Predict the NFL-winner 2023"
   ]
  },
  {
   "cell_type": "markdown",
   "id": "2edba85c",
   "metadata": {},
   "source": [
    "# 2. DATA GATHERING "
   ]
  },
  {
   "cell_type": "code",
   "execution_count": 32,
   "id": "de3aac39",
   "metadata": {},
   "outputs": [
    {
     "data": {
      "text/html": [
       "<div>\n",
       "<style scoped>\n",
       "    .dataframe tbody tr th:only-of-type {\n",
       "        vertical-align: middle;\n",
       "    }\n",
       "\n",
       "    .dataframe tbody tr th {\n",
       "        vertical-align: top;\n",
       "    }\n",
       "\n",
       "    .dataframe thead th {\n",
       "        text-align: right;\n",
       "    }\n",
       "</style>\n",
       "<table border=\"1\" class=\"dataframe\">\n",
       "  <thead>\n",
       "    <tr style=\"text-align: right;\">\n",
       "      <th></th>\n",
       "      <th>Team</th>\n",
       "      <th>WinLoss perc</th>\n",
       "      <th>PD</th>\n",
       "      <th>Year</th>\n",
       "      <th>FGM</th>\n",
       "      <th>FG_perc</th>\n",
       "      <th>RedZone_perc</th>\n",
       "      <th>playoff_win_perc</th>\n",
       "      <th>Score_perc</th>\n",
       "      <th>Turnover_perc</th>\n",
       "      <th>RushYperG</th>\n",
       "      <th>PassYperG</th>\n",
       "      <th>PointperG</th>\n",
       "      <th>possperG</th>\n",
       "      <th>YallowedperG</th>\n",
       "      <th>PointallowedperG</th>\n",
       "      <th>perc_punt_20</th>\n",
       "      <th>Result</th>\n",
       "    </tr>\n",
       "  </thead>\n",
       "  <tbody>\n",
       "    <tr>\n",
       "      <th>0</th>\n",
       "      <td>New England Patriots</td>\n",
       "      <td>87.5</td>\n",
       "      <td>205</td>\n",
       "      <td>2010</td>\n",
       "      <td>22</td>\n",
       "      <td>88.0</td>\n",
       "      <td>62.7</td>\n",
       "      <td>87.500000</td>\n",
       "      <td>47.0</td>\n",
       "      <td>5.4</td>\n",
       "      <td>123.3</td>\n",
       "      <td>240.4</td>\n",
       "      <td>32.4</td>\n",
       "      <td>0.490000</td>\n",
       "      <td>366.9</td>\n",
       "      <td>19.6</td>\n",
       "      <td>30.6</td>\n",
       "      <td>Loss</td>\n",
       "    </tr>\n",
       "    <tr>\n",
       "      <th>1</th>\n",
       "      <td>New York Jets</td>\n",
       "      <td>68.8</td>\n",
       "      <td>63</td>\n",
       "      <td>2010</td>\n",
       "      <td>30</td>\n",
       "      <td>76.9</td>\n",
       "      <td>40.0</td>\n",
       "      <td>68.750000</td>\n",
       "      <td>32.2</td>\n",
       "      <td>10.6</td>\n",
       "      <td>148.4</td>\n",
       "      <td>203.2</td>\n",
       "      <td>22.9</td>\n",
       "      <td>0.543611</td>\n",
       "      <td>291.4</td>\n",
       "      <td>19.0</td>\n",
       "      <td>45.5</td>\n",
       "      <td>Loss</td>\n",
       "    </tr>\n",
       "    <tr>\n",
       "      <th>2</th>\n",
       "      <td>Miami Dolphins</td>\n",
       "      <td>43.8</td>\n",
       "      <td>-60</td>\n",
       "      <td>2010</td>\n",
       "      <td>30</td>\n",
       "      <td>73.2</td>\n",
       "      <td>52.9</td>\n",
       "      <td>0.000000</td>\n",
       "      <td>29.7</td>\n",
       "      <td>15.7</td>\n",
       "      <td>102.7</td>\n",
       "      <td>220.4</td>\n",
       "      <td>17.1</td>\n",
       "      <td>0.514722</td>\n",
       "      <td>309.3</td>\n",
       "      <td>20.8</td>\n",
       "      <td>42.5</td>\n",
       "      <td>Loss</td>\n",
       "    </tr>\n",
       "    <tr>\n",
       "      <th>3</th>\n",
       "      <td>Buffalo Bills</td>\n",
       "      <td>25.0</td>\n",
       "      <td>-142</td>\n",
       "      <td>2010</td>\n",
       "      <td>16</td>\n",
       "      <td>76.2</td>\n",
       "      <td>51.4</td>\n",
       "      <td>0.000000</td>\n",
       "      <td>25.3</td>\n",
       "      <td>19.2</td>\n",
       "      <td>107.5</td>\n",
       "      <td>197.8</td>\n",
       "      <td>17.7</td>\n",
       "      <td>0.476389</td>\n",
       "      <td>361.6</td>\n",
       "      <td>26.6</td>\n",
       "      <td>22.7</td>\n",
       "      <td>Loss</td>\n",
       "    </tr>\n",
       "    <tr>\n",
       "      <th>4</th>\n",
       "      <td>Pittsburgh Steelers</td>\n",
       "      <td>75.0</td>\n",
       "      <td>143</td>\n",
       "      <td>2010</td>\n",
       "      <td>29</td>\n",
       "      <td>78.4</td>\n",
       "      <td>48.0</td>\n",
       "      <td>75.000000</td>\n",
       "      <td>36.9</td>\n",
       "      <td>9.5</td>\n",
       "      <td>120.2</td>\n",
       "      <td>225.0</td>\n",
       "      <td>23.4</td>\n",
       "      <td>0.540000</td>\n",
       "      <td>276.8</td>\n",
       "      <td>14.5</td>\n",
       "      <td>31.6</td>\n",
       "      <td>Loss</td>\n",
       "    </tr>\n",
       "    <tr>\n",
       "      <th>...</th>\n",
       "      <td>...</td>\n",
       "      <td>...</td>\n",
       "      <td>...</td>\n",
       "      <td>...</td>\n",
       "      <td>...</td>\n",
       "      <td>...</td>\n",
       "      <td>...</td>\n",
       "      <td>...</td>\n",
       "      <td>...</td>\n",
       "      <td>...</td>\n",
       "      <td>...</td>\n",
       "      <td>...</td>\n",
       "      <td>...</td>\n",
       "      <td>...</td>\n",
       "      <td>...</td>\n",
       "      <td>...</td>\n",
       "      <td>...</td>\n",
       "      <td>...</td>\n",
       "    </tr>\n",
       "    <tr>\n",
       "      <th>379</th>\n",
       "      <td>Carolina Panthers</td>\n",
       "      <td>29.4</td>\n",
       "      <td>-100</td>\n",
       "      <td>2021</td>\n",
       "      <td>26</td>\n",
       "      <td>89.7</td>\n",
       "      <td>53.2</td>\n",
       "      <td>0.000000</td>\n",
       "      <td>29.2</td>\n",
       "      <td>14.9</td>\n",
       "      <td>108.4</td>\n",
       "      <td>190.5</td>\n",
       "      <td>17.9</td>\n",
       "      <td>0.511944</td>\n",
       "      <td>305.9</td>\n",
       "      <td>23.8</td>\n",
       "      <td>21.1</td>\n",
       "      <td>Loss</td>\n",
       "    </tr>\n",
       "    <tr>\n",
       "      <th>380</th>\n",
       "      <td>Los Angeles Rams</td>\n",
       "      <td>70.6</td>\n",
       "      <td>88</td>\n",
       "      <td>2021</td>\n",
       "      <td>32</td>\n",
       "      <td>94.1</td>\n",
       "      <td>60.0</td>\n",
       "      <td>70.588235</td>\n",
       "      <td>45.9</td>\n",
       "      <td>12.2</td>\n",
       "      <td>99.0</td>\n",
       "      <td>273.1</td>\n",
       "      <td>27.1</td>\n",
       "      <td>0.484167</td>\n",
       "      <td>344.9</td>\n",
       "      <td>21.9</td>\n",
       "      <td>47.8</td>\n",
       "      <td>Win</td>\n",
       "    </tr>\n",
       "    <tr>\n",
       "      <th>381</th>\n",
       "      <td>Arizona Cardinals</td>\n",
       "      <td>64.7</td>\n",
       "      <td>83</td>\n",
       "      <td>2021</td>\n",
       "      <td>30</td>\n",
       "      <td>81.1</td>\n",
       "      <td>60.0</td>\n",
       "      <td>64.705882</td>\n",
       "      <td>44.7</td>\n",
       "      <td>7.8</td>\n",
       "      <td>122.1</td>\n",
       "      <td>251.5</td>\n",
       "      <td>26.4</td>\n",
       "      <td>0.520833</td>\n",
       "      <td>329.2</td>\n",
       "      <td>21.5</td>\n",
       "      <td>20.1</td>\n",
       "      <td>Loss</td>\n",
       "    </tr>\n",
       "    <tr>\n",
       "      <th>382</th>\n",
       "      <td>San Francisco 49ers</td>\n",
       "      <td>58.8</td>\n",
       "      <td>62</td>\n",
       "      <td>2021</td>\n",
       "      <td>27</td>\n",
       "      <td>84.4</td>\n",
       "      <td>66.7</td>\n",
       "      <td>58.823529</td>\n",
       "      <td>41.2</td>\n",
       "      <td>11.5</td>\n",
       "      <td>127.4</td>\n",
       "      <td>248.3</td>\n",
       "      <td>25.1</td>\n",
       "      <td>0.519167</td>\n",
       "      <td>310.0</td>\n",
       "      <td>21.5</td>\n",
       "      <td>38.0</td>\n",
       "      <td>Loss</td>\n",
       "    </tr>\n",
       "    <tr>\n",
       "      <th>383</th>\n",
       "      <td>Seattle Seahawks</td>\n",
       "      <td>41.2</td>\n",
       "      <td>29</td>\n",
       "      <td>2021</td>\n",
       "      <td>17</td>\n",
       "      <td>73.9</td>\n",
       "      <td>64.6</td>\n",
       "      <td>0.000000</td>\n",
       "      <td>34.8</td>\n",
       "      <td>7.0</td>\n",
       "      <td>122.0</td>\n",
       "      <td>201.9</td>\n",
       "      <td>23.2</td>\n",
       "      <td>0.425833</td>\n",
       "      <td>379.1</td>\n",
       "      <td>21.5</td>\n",
       "      <td>48.2</td>\n",
       "      <td>Loss</td>\n",
       "    </tr>\n",
       "  </tbody>\n",
       "</table>\n",
       "<p>384 rows × 18 columns</p>\n",
       "</div>"
      ],
      "text/plain": [
       "                     Team  WinLoss perc   PD  Year  FGM  FG_perc  \\\n",
       "0    New England Patriots          87.5  205  2010   22     88.0   \n",
       "1           New York Jets          68.8   63  2010   30     76.9   \n",
       "2          Miami Dolphins          43.8  -60  2010   30     73.2   \n",
       "3           Buffalo Bills          25.0 -142  2010   16     76.2   \n",
       "4     Pittsburgh Steelers          75.0  143  2010   29     78.4   \n",
       "..                    ...           ...  ...   ...  ...      ...   \n",
       "379     Carolina Panthers          29.4 -100  2021   26     89.7   \n",
       "380      Los Angeles Rams          70.6   88  2021   32     94.1   \n",
       "381     Arizona Cardinals          64.7   83  2021   30     81.1   \n",
       "382   San Francisco 49ers          58.8   62  2021   27     84.4   \n",
       "383      Seattle Seahawks          41.2   29  2021   17     73.9   \n",
       "\n",
       "     RedZone_perc  playoff_win_perc  Score_perc  Turnover_perc  RushYperG  \\\n",
       "0            62.7         87.500000        47.0            5.4      123.3   \n",
       "1            40.0         68.750000        32.2           10.6      148.4   \n",
       "2            52.9          0.000000        29.7           15.7      102.7   \n",
       "3            51.4          0.000000        25.3           19.2      107.5   \n",
       "4            48.0         75.000000        36.9            9.5      120.2   \n",
       "..            ...               ...         ...            ...        ...   \n",
       "379          53.2          0.000000        29.2           14.9      108.4   \n",
       "380          60.0         70.588235        45.9           12.2       99.0   \n",
       "381          60.0         64.705882        44.7            7.8      122.1   \n",
       "382          66.7         58.823529        41.2           11.5      127.4   \n",
       "383          64.6          0.000000        34.8            7.0      122.0   \n",
       "\n",
       "     PassYperG  PointperG  possperG  YallowedperG  PointallowedperG  \\\n",
       "0        240.4       32.4  0.490000         366.9              19.6   \n",
       "1        203.2       22.9  0.543611         291.4              19.0   \n",
       "2        220.4       17.1  0.514722         309.3              20.8   \n",
       "3        197.8       17.7  0.476389         361.6              26.6   \n",
       "4        225.0       23.4  0.540000         276.8              14.5   \n",
       "..         ...        ...       ...           ...               ...   \n",
       "379      190.5       17.9  0.511944         305.9              23.8   \n",
       "380      273.1       27.1  0.484167         344.9              21.9   \n",
       "381      251.5       26.4  0.520833         329.2              21.5   \n",
       "382      248.3       25.1  0.519167         310.0              21.5   \n",
       "383      201.9       23.2  0.425833         379.1              21.5   \n",
       "\n",
       "     perc_punt_20 Result  \n",
       "0            30.6   Loss  \n",
       "1            45.5   Loss  \n",
       "2            42.5   Loss  \n",
       "3            22.7   Loss  \n",
       "4            31.6   Loss  \n",
       "..            ...    ...  \n",
       "379          21.1   Loss  \n",
       "380          47.8    Win  \n",
       "381          20.1   Loss  \n",
       "382          38.0   Loss  \n",
       "383          48.2   Loss  \n",
       "\n",
       "[384 rows x 18 columns]"
      ]
     },
     "execution_count": 32,
     "metadata": {},
     "output_type": "execute_result"
    }
   ],
   "source": [
    "nfl = pd.read_csv(\"NFL_data.csv\")\n",
    "nfl\n"
   ]
  },
  {
   "cell_type": "code",
   "execution_count": 33,
   "id": "f5bb5a40",
   "metadata": {},
   "outputs": [
    {
     "name": "stdout",
     "output_type": "stream",
     "text": [
      "<class 'pandas.core.frame.DataFrame'>\n",
      "RangeIndex: 384 entries, 0 to 383\n",
      "Data columns (total 18 columns):\n",
      " #   Column            Non-Null Count  Dtype  \n",
      "---  ------            --------------  -----  \n",
      " 0   Team              384 non-null    object \n",
      " 1   WinLoss perc      384 non-null    float64\n",
      " 2   PD                384 non-null    int64  \n",
      " 3   Year              384 non-null    int64  \n",
      " 4   FGM               384 non-null    int64  \n",
      " 5   FG_perc           384 non-null    float64\n",
      " 6   RedZone_perc      384 non-null    float64\n",
      " 7   playoff_win_perc  384 non-null    float64\n",
      " 8   Score_perc        384 non-null    float64\n",
      " 9   Turnover_perc     384 non-null    float64\n",
      " 10  RushYperG         384 non-null    float64\n",
      " 11  PassYperG         384 non-null    float64\n",
      " 12  PointperG         384 non-null    float64\n",
      " 13  possperG          384 non-null    float64\n",
      " 14  YallowedperG      384 non-null    float64\n",
      " 15  PointallowedperG  384 non-null    float64\n",
      " 16  perc_punt_20      384 non-null    float64\n",
      " 17  Result            384 non-null    object \n",
      "dtypes: float64(13), int64(3), object(2)\n",
      "memory usage: 54.1+ KB\n"
     ]
    }
   ],
   "source": [
    "nfl.info()"
   ]
  },
  {
   "cell_type": "markdown",
   "id": "bfcd73c0",
   "metadata": {},
   "source": [
    "# 3. EDA"
   ]
  },
  {
   "cell_type": "code",
   "execution_count": 34,
   "id": "4f98e0d6",
   "metadata": {},
   "outputs": [
    {
     "data": {
      "text/plain": [
       "New England Patriots     12\n",
       "New York Jets            12\n",
       "San Francisco 49ers      12\n",
       "Los Angeles Rams         12\n",
       "Seattle Seahawks         12\n",
       "Carolina Panthers        12\n",
       "Tampa Bay Buccaneers     12\n",
       "New Orleans Saints       12\n",
       "Atlanta Falcons          12\n",
       "Minnesota Vikings        12\n",
       "Detroit Lions            12\n",
       "Green Bay Packers        12\n",
       "Chicago Bears            12\n",
       "Washington Commanders    12\n",
       "Dallas Cowboys           12\n",
       "New York Giants          12\n",
       "Philadelphia Eagles      12\n",
       "Denver Broncos           12\n",
       "Las Vegas Raiders        12\n",
       "Los Angeles Chargers     12\n",
       "Kansas City Chiefs       12\n",
       "Tennessee Titans         12\n",
       "Houston Texans           12\n",
       "Jacksonville Jaguars     12\n",
       "Indianapolis Colts       12\n",
       "Cincinnati Bengals       12\n",
       "Cleveland Browns         12\n",
       "Baltimore Ravens         12\n",
       "Pittsburgh Steelers      12\n",
       "Buffalo Bills            12\n",
       "Miami Dolphins           12\n",
       "Arizona Cardinals        12\n",
       "Name: Team, dtype: int64"
      ]
     },
     "execution_count": 34,
     "metadata": {},
     "output_type": "execute_result"
    }
   ],
   "source": [
    "nfl['Team'].value_counts()"
   ]
  },
  {
   "cell_type": "code",
   "execution_count": 35,
   "id": "5f5f8cee",
   "metadata": {},
   "outputs": [
    {
     "data": {
      "text/plain": [
       "0"
      ]
     },
     "execution_count": 35,
     "metadata": {},
     "output_type": "execute_result"
    }
   ],
   "source": [
    "nfl['Team'].isna().sum()"
   ]
  },
  {
   "cell_type": "code",
   "execution_count": 36,
   "id": "90fd6df4",
   "metadata": {},
   "outputs": [],
   "source": [
    "nfl = pd.get_dummies(nfl , columns=[\"Team\"])"
   ]
  },
  {
   "cell_type": "code",
   "execution_count": 37,
   "id": "2de64f4c",
   "metadata": {},
   "outputs": [
    {
     "data": {
      "text/html": [
       "<div>\n",
       "<style scoped>\n",
       "    .dataframe tbody tr th:only-of-type {\n",
       "        vertical-align: middle;\n",
       "    }\n",
       "\n",
       "    .dataframe tbody tr th {\n",
       "        vertical-align: top;\n",
       "    }\n",
       "\n",
       "    .dataframe thead th {\n",
       "        text-align: right;\n",
       "    }\n",
       "</style>\n",
       "<table border=\"1\" class=\"dataframe\">\n",
       "  <thead>\n",
       "    <tr style=\"text-align: right;\">\n",
       "      <th></th>\n",
       "      <th>WinLoss perc</th>\n",
       "      <th>PD</th>\n",
       "      <th>Year</th>\n",
       "      <th>FGM</th>\n",
       "      <th>FG_perc</th>\n",
       "      <th>RedZone_perc</th>\n",
       "      <th>playoff_win_perc</th>\n",
       "      <th>Score_perc</th>\n",
       "      <th>Turnover_perc</th>\n",
       "      <th>RushYperG</th>\n",
       "      <th>...</th>\n",
       "      <th>Team_New Orleans Saints</th>\n",
       "      <th>Team_New York Giants</th>\n",
       "      <th>Team_New York Jets</th>\n",
       "      <th>Team_Philadelphia Eagles</th>\n",
       "      <th>Team_Pittsburgh Steelers</th>\n",
       "      <th>Team_San Francisco 49ers</th>\n",
       "      <th>Team_Seattle Seahawks</th>\n",
       "      <th>Team_Tampa Bay Buccaneers</th>\n",
       "      <th>Team_Tennessee Titans</th>\n",
       "      <th>Team_Washington Commanders</th>\n",
       "    </tr>\n",
       "  </thead>\n",
       "  <tbody>\n",
       "    <tr>\n",
       "      <th>0</th>\n",
       "      <td>87.5</td>\n",
       "      <td>205</td>\n",
       "      <td>2010</td>\n",
       "      <td>22</td>\n",
       "      <td>88.0</td>\n",
       "      <td>62.7</td>\n",
       "      <td>87.500000</td>\n",
       "      <td>47.0</td>\n",
       "      <td>5.4</td>\n",
       "      <td>123.3</td>\n",
       "      <td>...</td>\n",
       "      <td>0</td>\n",
       "      <td>0</td>\n",
       "      <td>0</td>\n",
       "      <td>0</td>\n",
       "      <td>0</td>\n",
       "      <td>0</td>\n",
       "      <td>0</td>\n",
       "      <td>0</td>\n",
       "      <td>0</td>\n",
       "      <td>0</td>\n",
       "    </tr>\n",
       "    <tr>\n",
       "      <th>1</th>\n",
       "      <td>68.8</td>\n",
       "      <td>63</td>\n",
       "      <td>2010</td>\n",
       "      <td>30</td>\n",
       "      <td>76.9</td>\n",
       "      <td>40.0</td>\n",
       "      <td>68.750000</td>\n",
       "      <td>32.2</td>\n",
       "      <td>10.6</td>\n",
       "      <td>148.4</td>\n",
       "      <td>...</td>\n",
       "      <td>0</td>\n",
       "      <td>0</td>\n",
       "      <td>1</td>\n",
       "      <td>0</td>\n",
       "      <td>0</td>\n",
       "      <td>0</td>\n",
       "      <td>0</td>\n",
       "      <td>0</td>\n",
       "      <td>0</td>\n",
       "      <td>0</td>\n",
       "    </tr>\n",
       "    <tr>\n",
       "      <th>2</th>\n",
       "      <td>43.8</td>\n",
       "      <td>-60</td>\n",
       "      <td>2010</td>\n",
       "      <td>30</td>\n",
       "      <td>73.2</td>\n",
       "      <td>52.9</td>\n",
       "      <td>0.000000</td>\n",
       "      <td>29.7</td>\n",
       "      <td>15.7</td>\n",
       "      <td>102.7</td>\n",
       "      <td>...</td>\n",
       "      <td>0</td>\n",
       "      <td>0</td>\n",
       "      <td>0</td>\n",
       "      <td>0</td>\n",
       "      <td>0</td>\n",
       "      <td>0</td>\n",
       "      <td>0</td>\n",
       "      <td>0</td>\n",
       "      <td>0</td>\n",
       "      <td>0</td>\n",
       "    </tr>\n",
       "    <tr>\n",
       "      <th>3</th>\n",
       "      <td>25.0</td>\n",
       "      <td>-142</td>\n",
       "      <td>2010</td>\n",
       "      <td>16</td>\n",
       "      <td>76.2</td>\n",
       "      <td>51.4</td>\n",
       "      <td>0.000000</td>\n",
       "      <td>25.3</td>\n",
       "      <td>19.2</td>\n",
       "      <td>107.5</td>\n",
       "      <td>...</td>\n",
       "      <td>0</td>\n",
       "      <td>0</td>\n",
       "      <td>0</td>\n",
       "      <td>0</td>\n",
       "      <td>0</td>\n",
       "      <td>0</td>\n",
       "      <td>0</td>\n",
       "      <td>0</td>\n",
       "      <td>0</td>\n",
       "      <td>0</td>\n",
       "    </tr>\n",
       "    <tr>\n",
       "      <th>4</th>\n",
       "      <td>75.0</td>\n",
       "      <td>143</td>\n",
       "      <td>2010</td>\n",
       "      <td>29</td>\n",
       "      <td>78.4</td>\n",
       "      <td>48.0</td>\n",
       "      <td>75.000000</td>\n",
       "      <td>36.9</td>\n",
       "      <td>9.5</td>\n",
       "      <td>120.2</td>\n",
       "      <td>...</td>\n",
       "      <td>0</td>\n",
       "      <td>0</td>\n",
       "      <td>0</td>\n",
       "      <td>0</td>\n",
       "      <td>1</td>\n",
       "      <td>0</td>\n",
       "      <td>0</td>\n",
       "      <td>0</td>\n",
       "      <td>0</td>\n",
       "      <td>0</td>\n",
       "    </tr>\n",
       "    <tr>\n",
       "      <th>...</th>\n",
       "      <td>...</td>\n",
       "      <td>...</td>\n",
       "      <td>...</td>\n",
       "      <td>...</td>\n",
       "      <td>...</td>\n",
       "      <td>...</td>\n",
       "      <td>...</td>\n",
       "      <td>...</td>\n",
       "      <td>...</td>\n",
       "      <td>...</td>\n",
       "      <td>...</td>\n",
       "      <td>...</td>\n",
       "      <td>...</td>\n",
       "      <td>...</td>\n",
       "      <td>...</td>\n",
       "      <td>...</td>\n",
       "      <td>...</td>\n",
       "      <td>...</td>\n",
       "      <td>...</td>\n",
       "      <td>...</td>\n",
       "      <td>...</td>\n",
       "    </tr>\n",
       "    <tr>\n",
       "      <th>379</th>\n",
       "      <td>29.4</td>\n",
       "      <td>-100</td>\n",
       "      <td>2021</td>\n",
       "      <td>26</td>\n",
       "      <td>89.7</td>\n",
       "      <td>53.2</td>\n",
       "      <td>0.000000</td>\n",
       "      <td>29.2</td>\n",
       "      <td>14.9</td>\n",
       "      <td>108.4</td>\n",
       "      <td>...</td>\n",
       "      <td>0</td>\n",
       "      <td>0</td>\n",
       "      <td>0</td>\n",
       "      <td>0</td>\n",
       "      <td>0</td>\n",
       "      <td>0</td>\n",
       "      <td>0</td>\n",
       "      <td>0</td>\n",
       "      <td>0</td>\n",
       "      <td>0</td>\n",
       "    </tr>\n",
       "    <tr>\n",
       "      <th>380</th>\n",
       "      <td>70.6</td>\n",
       "      <td>88</td>\n",
       "      <td>2021</td>\n",
       "      <td>32</td>\n",
       "      <td>94.1</td>\n",
       "      <td>60.0</td>\n",
       "      <td>70.588235</td>\n",
       "      <td>45.9</td>\n",
       "      <td>12.2</td>\n",
       "      <td>99.0</td>\n",
       "      <td>...</td>\n",
       "      <td>0</td>\n",
       "      <td>0</td>\n",
       "      <td>0</td>\n",
       "      <td>0</td>\n",
       "      <td>0</td>\n",
       "      <td>0</td>\n",
       "      <td>0</td>\n",
       "      <td>0</td>\n",
       "      <td>0</td>\n",
       "      <td>0</td>\n",
       "    </tr>\n",
       "    <tr>\n",
       "      <th>381</th>\n",
       "      <td>64.7</td>\n",
       "      <td>83</td>\n",
       "      <td>2021</td>\n",
       "      <td>30</td>\n",
       "      <td>81.1</td>\n",
       "      <td>60.0</td>\n",
       "      <td>64.705882</td>\n",
       "      <td>44.7</td>\n",
       "      <td>7.8</td>\n",
       "      <td>122.1</td>\n",
       "      <td>...</td>\n",
       "      <td>0</td>\n",
       "      <td>0</td>\n",
       "      <td>0</td>\n",
       "      <td>0</td>\n",
       "      <td>0</td>\n",
       "      <td>0</td>\n",
       "      <td>0</td>\n",
       "      <td>0</td>\n",
       "      <td>0</td>\n",
       "      <td>0</td>\n",
       "    </tr>\n",
       "    <tr>\n",
       "      <th>382</th>\n",
       "      <td>58.8</td>\n",
       "      <td>62</td>\n",
       "      <td>2021</td>\n",
       "      <td>27</td>\n",
       "      <td>84.4</td>\n",
       "      <td>66.7</td>\n",
       "      <td>58.823529</td>\n",
       "      <td>41.2</td>\n",
       "      <td>11.5</td>\n",
       "      <td>127.4</td>\n",
       "      <td>...</td>\n",
       "      <td>0</td>\n",
       "      <td>0</td>\n",
       "      <td>0</td>\n",
       "      <td>0</td>\n",
       "      <td>0</td>\n",
       "      <td>1</td>\n",
       "      <td>0</td>\n",
       "      <td>0</td>\n",
       "      <td>0</td>\n",
       "      <td>0</td>\n",
       "    </tr>\n",
       "    <tr>\n",
       "      <th>383</th>\n",
       "      <td>41.2</td>\n",
       "      <td>29</td>\n",
       "      <td>2021</td>\n",
       "      <td>17</td>\n",
       "      <td>73.9</td>\n",
       "      <td>64.6</td>\n",
       "      <td>0.000000</td>\n",
       "      <td>34.8</td>\n",
       "      <td>7.0</td>\n",
       "      <td>122.0</td>\n",
       "      <td>...</td>\n",
       "      <td>0</td>\n",
       "      <td>0</td>\n",
       "      <td>0</td>\n",
       "      <td>0</td>\n",
       "      <td>0</td>\n",
       "      <td>0</td>\n",
       "      <td>1</td>\n",
       "      <td>0</td>\n",
       "      <td>0</td>\n",
       "      <td>0</td>\n",
       "    </tr>\n",
       "  </tbody>\n",
       "</table>\n",
       "<p>384 rows × 49 columns</p>\n",
       "</div>"
      ],
      "text/plain": [
       "     WinLoss perc   PD  Year  FGM  FG_perc  RedZone_perc  playoff_win_perc  \\\n",
       "0            87.5  205  2010   22     88.0          62.7         87.500000   \n",
       "1            68.8   63  2010   30     76.9          40.0         68.750000   \n",
       "2            43.8  -60  2010   30     73.2          52.9          0.000000   \n",
       "3            25.0 -142  2010   16     76.2          51.4          0.000000   \n",
       "4            75.0  143  2010   29     78.4          48.0         75.000000   \n",
       "..            ...  ...   ...  ...      ...           ...               ...   \n",
       "379          29.4 -100  2021   26     89.7          53.2          0.000000   \n",
       "380          70.6   88  2021   32     94.1          60.0         70.588235   \n",
       "381          64.7   83  2021   30     81.1          60.0         64.705882   \n",
       "382          58.8   62  2021   27     84.4          66.7         58.823529   \n",
       "383          41.2   29  2021   17     73.9          64.6          0.000000   \n",
       "\n",
       "     Score_perc  Turnover_perc  RushYperG  ...  Team_New Orleans Saints  \\\n",
       "0          47.0            5.4      123.3  ...                        0   \n",
       "1          32.2           10.6      148.4  ...                        0   \n",
       "2          29.7           15.7      102.7  ...                        0   \n",
       "3          25.3           19.2      107.5  ...                        0   \n",
       "4          36.9            9.5      120.2  ...                        0   \n",
       "..          ...            ...        ...  ...                      ...   \n",
       "379        29.2           14.9      108.4  ...                        0   \n",
       "380        45.9           12.2       99.0  ...                        0   \n",
       "381        44.7            7.8      122.1  ...                        0   \n",
       "382        41.2           11.5      127.4  ...                        0   \n",
       "383        34.8            7.0      122.0  ...                        0   \n",
       "\n",
       "     Team_New York Giants  Team_New York Jets  Team_Philadelphia Eagles  \\\n",
       "0                       0                   0                         0   \n",
       "1                       0                   1                         0   \n",
       "2                       0                   0                         0   \n",
       "3                       0                   0                         0   \n",
       "4                       0                   0                         0   \n",
       "..                    ...                 ...                       ...   \n",
       "379                     0                   0                         0   \n",
       "380                     0                   0                         0   \n",
       "381                     0                   0                         0   \n",
       "382                     0                   0                         0   \n",
       "383                     0                   0                         0   \n",
       "\n",
       "     Team_Pittsburgh Steelers  Team_San Francisco 49ers Team_Seattle Seahawks  \\\n",
       "0                           0                         0                     0   \n",
       "1                           0                         0                     0   \n",
       "2                           0                         0                     0   \n",
       "3                           0                         0                     0   \n",
       "4                           1                         0                     0   \n",
       "..                        ...                       ...                   ...   \n",
       "379                         0                         0                     0   \n",
       "380                         0                         0                     0   \n",
       "381                         0                         0                     0   \n",
       "382                         0                         1                     0   \n",
       "383                         0                         0                     1   \n",
       "\n",
       "     Team_Tampa Bay Buccaneers  Team_Tennessee Titans  \\\n",
       "0                            0                      0   \n",
       "1                            0                      0   \n",
       "2                            0                      0   \n",
       "3                            0                      0   \n",
       "4                            0                      0   \n",
       "..                         ...                    ...   \n",
       "379                          0                      0   \n",
       "380                          0                      0   \n",
       "381                          0                      0   \n",
       "382                          0                      0   \n",
       "383                          0                      0   \n",
       "\n",
       "     Team_Washington Commanders  \n",
       "0                             0  \n",
       "1                             0  \n",
       "2                             0  \n",
       "3                             0  \n",
       "4                             0  \n",
       "..                          ...  \n",
       "379                           0  \n",
       "380                           0  \n",
       "381                           0  \n",
       "382                           0  \n",
       "383                           0  \n",
       "\n",
       "[384 rows x 49 columns]"
      ]
     },
     "execution_count": 37,
     "metadata": {},
     "output_type": "execute_result"
    }
   ],
   "source": [
    "nfl"
   ]
  },
  {
   "cell_type": "code",
   "execution_count": 38,
   "id": "bf5fd743",
   "metadata": {},
   "outputs": [
    {
     "name": "stdout",
     "output_type": "stream",
     "text": [
      "<class 'pandas.core.frame.DataFrame'>\n",
      "RangeIndex: 384 entries, 0 to 383\n",
      "Data columns (total 49 columns):\n",
      " #   Column                      Non-Null Count  Dtype  \n",
      "---  ------                      --------------  -----  \n",
      " 0   WinLoss perc                384 non-null    float64\n",
      " 1   PD                          384 non-null    int64  \n",
      " 2   Year                        384 non-null    int64  \n",
      " 3   FGM                         384 non-null    int64  \n",
      " 4   FG_perc                     384 non-null    float64\n",
      " 5   RedZone_perc                384 non-null    float64\n",
      " 6   playoff_win_perc            384 non-null    float64\n",
      " 7   Score_perc                  384 non-null    float64\n",
      " 8   Turnover_perc               384 non-null    float64\n",
      " 9   RushYperG                   384 non-null    float64\n",
      " 10  PassYperG                   384 non-null    float64\n",
      " 11  PointperG                   384 non-null    float64\n",
      " 12  possperG                    384 non-null    float64\n",
      " 13  YallowedperG                384 non-null    float64\n",
      " 14  PointallowedperG            384 non-null    float64\n",
      " 15  perc_punt_20                384 non-null    float64\n",
      " 16  Result                      384 non-null    object \n",
      " 17  Team_Arizona Cardinals      384 non-null    uint8  \n",
      " 18  Team_Atlanta Falcons        384 non-null    uint8  \n",
      " 19  Team_Baltimore Ravens       384 non-null    uint8  \n",
      " 20  Team_Buffalo Bills          384 non-null    uint8  \n",
      " 21  Team_Carolina Panthers      384 non-null    uint8  \n",
      " 22  Team_Chicago Bears          384 non-null    uint8  \n",
      " 23  Team_Cincinnati Bengals     384 non-null    uint8  \n",
      " 24  Team_Cleveland Browns       384 non-null    uint8  \n",
      " 25  Team_Dallas Cowboys         384 non-null    uint8  \n",
      " 26  Team_Denver Broncos         384 non-null    uint8  \n",
      " 27  Team_Detroit Lions          384 non-null    uint8  \n",
      " 28  Team_Green Bay Packers      384 non-null    uint8  \n",
      " 29  Team_Houston Texans         384 non-null    uint8  \n",
      " 30  Team_Indianapolis Colts     384 non-null    uint8  \n",
      " 31  Team_Jacksonville Jaguars   384 non-null    uint8  \n",
      " 32  Team_Kansas City Chiefs     384 non-null    uint8  \n",
      " 33  Team_Las Vegas Raiders      384 non-null    uint8  \n",
      " 34  Team_Los Angeles Chargers   384 non-null    uint8  \n",
      " 35  Team_Los Angeles Rams       384 non-null    uint8  \n",
      " 36  Team_Miami Dolphins         384 non-null    uint8  \n",
      " 37  Team_Minnesota Vikings      384 non-null    uint8  \n",
      " 38  Team_New England Patriots   384 non-null    uint8  \n",
      " 39  Team_New Orleans Saints     384 non-null    uint8  \n",
      " 40  Team_New York Giants        384 non-null    uint8  \n",
      " 41  Team_New York Jets          384 non-null    uint8  \n",
      " 42  Team_Philadelphia Eagles    384 non-null    uint8  \n",
      " 43  Team_Pittsburgh Steelers    384 non-null    uint8  \n",
      " 44  Team_San Francisco 49ers    384 non-null    uint8  \n",
      " 45  Team_Seattle Seahawks       384 non-null    uint8  \n",
      " 46  Team_Tampa Bay Buccaneers   384 non-null    uint8  \n",
      " 47  Team_Tennessee Titans       384 non-null    uint8  \n",
      " 48  Team_Washington Commanders  384 non-null    uint8  \n",
      "dtypes: float64(13), int64(3), object(1), uint8(32)\n",
      "memory usage: 63.1+ KB\n"
     ]
    }
   ],
   "source": [
    "nfl.info()"
   ]
  },
  {
   "cell_type": "code",
   "execution_count": 39,
   "id": "ebb273e5",
   "metadata": {},
   "outputs": [
    {
     "data": {
      "text/plain": [
       "array(['Loss', 'Win'], dtype=object)"
      ]
     },
     "execution_count": 39,
     "metadata": {},
     "output_type": "execute_result"
    }
   ],
   "source": [
    "nfl[\"Result\"].unique()"
   ]
  },
  {
   "cell_type": "code",
   "execution_count": 40,
   "id": "58940637",
   "metadata": {},
   "outputs": [
    {
     "data": {
      "text/plain": [
       "{'Loss': 372, 'Win': 12}"
      ]
     },
     "execution_count": 40,
     "metadata": {},
     "output_type": "execute_result"
    }
   ],
   "source": [
    "nfl[\"Result\"].value_counts().to_dict()"
   ]
  },
  {
   "cell_type": "code",
   "execution_count": 41,
   "id": "54e72e5b",
   "metadata": {},
   "outputs": [],
   "source": [
    "nfl[\"Result\"].replace({'Loss': 0, 'Win': 1},inplace=True)"
   ]
  },
  {
   "cell_type": "code",
   "execution_count": 42,
   "id": "3a40e287",
   "metadata": {},
   "outputs": [
    {
     "data": {
      "text/plain": [
       "0    372\n",
       "1     12\n",
       "Name: Result, dtype: int64"
      ]
     },
     "execution_count": 42,
     "metadata": {},
     "output_type": "execute_result"
    }
   ],
   "source": [
    "nfl[\"Result\"].value_counts()"
   ]
  },
  {
   "cell_type": "code",
   "execution_count": 43,
   "id": "05999dc2",
   "metadata": {},
   "outputs": [
    {
     "name": "stdout",
     "output_type": "stream",
     "text": [
      "<class 'pandas.core.frame.DataFrame'>\n",
      "RangeIndex: 384 entries, 0 to 383\n",
      "Data columns (total 49 columns):\n",
      " #   Column                      Non-Null Count  Dtype  \n",
      "---  ------                      --------------  -----  \n",
      " 0   WinLoss perc                384 non-null    float64\n",
      " 1   PD                          384 non-null    int64  \n",
      " 2   Year                        384 non-null    int64  \n",
      " 3   FGM                         384 non-null    int64  \n",
      " 4   FG_perc                     384 non-null    float64\n",
      " 5   RedZone_perc                384 non-null    float64\n",
      " 6   playoff_win_perc            384 non-null    float64\n",
      " 7   Score_perc                  384 non-null    float64\n",
      " 8   Turnover_perc               384 non-null    float64\n",
      " 9   RushYperG                   384 non-null    float64\n",
      " 10  PassYperG                   384 non-null    float64\n",
      " 11  PointperG                   384 non-null    float64\n",
      " 12  possperG                    384 non-null    float64\n",
      " 13  YallowedperG                384 non-null    float64\n",
      " 14  PointallowedperG            384 non-null    float64\n",
      " 15  perc_punt_20                384 non-null    float64\n",
      " 16  Result                      384 non-null    int64  \n",
      " 17  Team_Arizona Cardinals      384 non-null    uint8  \n",
      " 18  Team_Atlanta Falcons        384 non-null    uint8  \n",
      " 19  Team_Baltimore Ravens       384 non-null    uint8  \n",
      " 20  Team_Buffalo Bills          384 non-null    uint8  \n",
      " 21  Team_Carolina Panthers      384 non-null    uint8  \n",
      " 22  Team_Chicago Bears          384 non-null    uint8  \n",
      " 23  Team_Cincinnati Bengals     384 non-null    uint8  \n",
      " 24  Team_Cleveland Browns       384 non-null    uint8  \n",
      " 25  Team_Dallas Cowboys         384 non-null    uint8  \n",
      " 26  Team_Denver Broncos         384 non-null    uint8  \n",
      " 27  Team_Detroit Lions          384 non-null    uint8  \n",
      " 28  Team_Green Bay Packers      384 non-null    uint8  \n",
      " 29  Team_Houston Texans         384 non-null    uint8  \n",
      " 30  Team_Indianapolis Colts     384 non-null    uint8  \n",
      " 31  Team_Jacksonville Jaguars   384 non-null    uint8  \n",
      " 32  Team_Kansas City Chiefs     384 non-null    uint8  \n",
      " 33  Team_Las Vegas Raiders      384 non-null    uint8  \n",
      " 34  Team_Los Angeles Chargers   384 non-null    uint8  \n",
      " 35  Team_Los Angeles Rams       384 non-null    uint8  \n",
      " 36  Team_Miami Dolphins         384 non-null    uint8  \n",
      " 37  Team_Minnesota Vikings      384 non-null    uint8  \n",
      " 38  Team_New England Patriots   384 non-null    uint8  \n",
      " 39  Team_New Orleans Saints     384 non-null    uint8  \n",
      " 40  Team_New York Giants        384 non-null    uint8  \n",
      " 41  Team_New York Jets          384 non-null    uint8  \n",
      " 42  Team_Philadelphia Eagles    384 non-null    uint8  \n",
      " 43  Team_Pittsburgh Steelers    384 non-null    uint8  \n",
      " 44  Team_San Francisco 49ers    384 non-null    uint8  \n",
      " 45  Team_Seattle Seahawks       384 non-null    uint8  \n",
      " 46  Team_Tampa Bay Buccaneers   384 non-null    uint8  \n",
      " 47  Team_Tennessee Titans       384 non-null    uint8  \n",
      " 48  Team_Washington Commanders  384 non-null    uint8  \n",
      "dtypes: float64(13), int64(4), uint8(32)\n",
      "memory usage: 63.1 KB\n"
     ]
    }
   ],
   "source": [
    "nfl.info()"
   ]
  },
  {
   "cell_type": "markdown",
   "id": "d4cf3a7f",
   "metadata": {},
   "source": []
  },
  {
   "cell_type": "markdown",
   "id": "1d7bf215",
   "metadata": {},
   "source": [
    "# 4. FEATURE ENGG"
   ]
  },
  {
   "cell_type": "code",
   "execution_count": 75,
   "id": "4a1719ed",
   "metadata": {},
   "outputs": [],
   "source": [
    "from sklearn.preprocessing import StandardScaler"
   ]
  },
  {
   "cell_type": "markdown",
   "id": "e5842fac",
   "metadata": {},
   "source": [
    "##### data preprocessing"
   ]
  },
  {
   "cell_type": "code",
   "execution_count": 79,
   "id": "68a41a83",
   "metadata": {},
   "outputs": [
    {
     "data": {
      "text/html": [
       "<div>\n",
       "<style scoped>\n",
       "    .dataframe tbody tr th:only-of-type {\n",
       "        vertical-align: middle;\n",
       "    }\n",
       "\n",
       "    .dataframe tbody tr th {\n",
       "        vertical-align: top;\n",
       "    }\n",
       "\n",
       "    .dataframe thead th {\n",
       "        text-align: right;\n",
       "    }\n",
       "</style>\n",
       "<table border=\"1\" class=\"dataframe\">\n",
       "  <thead>\n",
       "    <tr style=\"text-align: right;\">\n",
       "      <th></th>\n",
       "      <th>WinLoss perc</th>\n",
       "      <th>PD</th>\n",
       "      <th>Year</th>\n",
       "      <th>FGM</th>\n",
       "      <th>FG_perc</th>\n",
       "      <th>RedZone_perc</th>\n",
       "      <th>playoff_win_perc</th>\n",
       "      <th>Score_perc</th>\n",
       "      <th>Turnover_perc</th>\n",
       "      <th>RushYperG</th>\n",
       "      <th>...</th>\n",
       "      <th>Team_New Orleans Saints</th>\n",
       "      <th>Team_New York Giants</th>\n",
       "      <th>Team_New York Jets</th>\n",
       "      <th>Team_Philadelphia Eagles</th>\n",
       "      <th>Team_Pittsburgh Steelers</th>\n",
       "      <th>Team_San Francisco 49ers</th>\n",
       "      <th>Team_Seattle Seahawks</th>\n",
       "      <th>Team_Tampa Bay Buccaneers</th>\n",
       "      <th>Team_Tennessee Titans</th>\n",
       "      <th>Team_Washington Commanders</th>\n",
       "    </tr>\n",
       "  </thead>\n",
       "  <tbody>\n",
       "    <tr>\n",
       "      <th>0</th>\n",
       "      <td>1.954817</td>\n",
       "      <td>2.036601</td>\n",
       "      <td>-1.593255</td>\n",
       "      <td>-0.728680</td>\n",
       "      <td>0.622775</td>\n",
       "      <td>0.901487</td>\n",
       "      <td>1.783239</td>\n",
       "      <td>1.766476</td>\n",
       "      <td>-2.113990</td>\n",
       "      <td>0.480114</td>\n",
       "      <td>...</td>\n",
       "      <td>-0.179605</td>\n",
       "      <td>-0.179605</td>\n",
       "      <td>-0.179605</td>\n",
       "      <td>-0.179605</td>\n",
       "      <td>-0.179605</td>\n",
       "      <td>-0.179605</td>\n",
       "      <td>-0.179605</td>\n",
       "      <td>-0.179605</td>\n",
       "      <td>-0.179605</td>\n",
       "      <td>-0.179605</td>\n",
       "    </tr>\n",
       "    <tr>\n",
       "      <th>1</th>\n",
       "      <td>0.979473</td>\n",
       "      <td>0.625882</td>\n",
       "      <td>-1.593255</td>\n",
       "      <td>0.722069</td>\n",
       "      <td>-0.943312</td>\n",
       "      <td>-1.825310</td>\n",
       "      <td>1.234031</td>\n",
       "      <td>-0.443203</td>\n",
       "      <td>-0.442354</td>\n",
       "      <td>1.696539</td>\n",
       "      <td>...</td>\n",
       "      <td>-0.179605</td>\n",
       "      <td>-0.179605</td>\n",
       "      <td>5.567764</td>\n",
       "      <td>-0.179605</td>\n",
       "      <td>-0.179605</td>\n",
       "      <td>-0.179605</td>\n",
       "      <td>-0.179605</td>\n",
       "      <td>-0.179605</td>\n",
       "      <td>-0.179605</td>\n",
       "      <td>-0.179605</td>\n",
       "    </tr>\n",
       "    <tr>\n",
       "      <th>2</th>\n",
       "      <td>-0.324463</td>\n",
       "      <td>-0.596078</td>\n",
       "      <td>-1.593255</td>\n",
       "      <td>0.722069</td>\n",
       "      <td>-1.465341</td>\n",
       "      <td>-0.275720</td>\n",
       "      <td>-0.779731</td>\n",
       "      <td>-0.816460</td>\n",
       "      <td>1.197135</td>\n",
       "      <td>-0.518228</td>\n",
       "      <td>...</td>\n",
       "      <td>-0.179605</td>\n",
       "      <td>-0.179605</td>\n",
       "      <td>-0.179605</td>\n",
       "      <td>-0.179605</td>\n",
       "      <td>-0.179605</td>\n",
       "      <td>-0.179605</td>\n",
       "      <td>-0.179605</td>\n",
       "      <td>-0.179605</td>\n",
       "      <td>-0.179605</td>\n",
       "      <td>-0.179605</td>\n",
       "    </tr>\n",
       "    <tr>\n",
       "      <th>3</th>\n",
       "      <td>-1.305022</td>\n",
       "      <td>-1.410719</td>\n",
       "      <td>-1.593255</td>\n",
       "      <td>-1.816742</td>\n",
       "      <td>-1.042074</td>\n",
       "      <td>-0.455905</td>\n",
       "      <td>-0.779731</td>\n",
       "      <td>-1.473392</td>\n",
       "      <td>2.322274</td>\n",
       "      <td>-0.285605</td>\n",
       "      <td>...</td>\n",
       "      <td>-0.179605</td>\n",
       "      <td>-0.179605</td>\n",
       "      <td>-0.179605</td>\n",
       "      <td>-0.179605</td>\n",
       "      <td>-0.179605</td>\n",
       "      <td>-0.179605</td>\n",
       "      <td>-0.179605</td>\n",
       "      <td>-0.179605</td>\n",
       "      <td>-0.179605</td>\n",
       "      <td>-0.179605</td>\n",
       "    </tr>\n",
       "    <tr>\n",
       "      <th>4</th>\n",
       "      <td>1.302849</td>\n",
       "      <td>1.420653</td>\n",
       "      <td>-1.593255</td>\n",
       "      <td>0.540725</td>\n",
       "      <td>-0.731678</td>\n",
       "      <td>-0.864324</td>\n",
       "      <td>1.417101</td>\n",
       "      <td>0.258519</td>\n",
       "      <td>-0.795969</td>\n",
       "      <td>0.329878</td>\n",
       "      <td>...</td>\n",
       "      <td>-0.179605</td>\n",
       "      <td>-0.179605</td>\n",
       "      <td>-0.179605</td>\n",
       "      <td>-0.179605</td>\n",
       "      <td>5.567764</td>\n",
       "      <td>-0.179605</td>\n",
       "      <td>-0.179605</td>\n",
       "      <td>-0.179605</td>\n",
       "      <td>-0.179605</td>\n",
       "      <td>-0.179605</td>\n",
       "    </tr>\n",
       "    <tr>\n",
       "      <th>...</th>\n",
       "      <td>...</td>\n",
       "      <td>...</td>\n",
       "      <td>...</td>\n",
       "      <td>...</td>\n",
       "      <td>...</td>\n",
       "      <td>...</td>\n",
       "      <td>...</td>\n",
       "      <td>...</td>\n",
       "      <td>...</td>\n",
       "      <td>...</td>\n",
       "      <td>...</td>\n",
       "      <td>...</td>\n",
       "      <td>...</td>\n",
       "      <td>...</td>\n",
       "      <td>...</td>\n",
       "      <td>...</td>\n",
       "      <td>...</td>\n",
       "      <td>...</td>\n",
       "      <td>...</td>\n",
       "      <td>...</td>\n",
       "      <td>...</td>\n",
       "    </tr>\n",
       "    <tr>\n",
       "      <th>379</th>\n",
       "      <td>-1.075529</td>\n",
       "      <td>-0.993464</td>\n",
       "      <td>1.593255</td>\n",
       "      <td>-0.003306</td>\n",
       "      <td>0.862627</td>\n",
       "      <td>-0.239683</td>\n",
       "      <td>-0.779731</td>\n",
       "      <td>-0.891111</td>\n",
       "      <td>0.939960</td>\n",
       "      <td>-0.241988</td>\n",
       "      <td>...</td>\n",
       "      <td>-0.179605</td>\n",
       "      <td>-0.179605</td>\n",
       "      <td>-0.179605</td>\n",
       "      <td>-0.179605</td>\n",
       "      <td>-0.179605</td>\n",
       "      <td>-0.179605</td>\n",
       "      <td>-0.179605</td>\n",
       "      <td>-0.179605</td>\n",
       "      <td>-0.179605</td>\n",
       "      <td>-0.179605</td>\n",
       "    </tr>\n",
       "    <tr>\n",
       "      <th>380</th>\n",
       "      <td>1.073356</td>\n",
       "      <td>0.874248</td>\n",
       "      <td>1.593255</td>\n",
       "      <td>1.084756</td>\n",
       "      <td>1.483418</td>\n",
       "      <td>0.577155</td>\n",
       "      <td>1.287875</td>\n",
       "      <td>1.602243</td>\n",
       "      <td>0.071996</td>\n",
       "      <td>-0.697541</td>\n",
       "      <td>...</td>\n",
       "      <td>-0.179605</td>\n",
       "      <td>-0.179605</td>\n",
       "      <td>-0.179605</td>\n",
       "      <td>-0.179605</td>\n",
       "      <td>-0.179605</td>\n",
       "      <td>-0.179605</td>\n",
       "      <td>-0.179605</td>\n",
       "      <td>-0.179605</td>\n",
       "      <td>-0.179605</td>\n",
       "      <td>-0.179605</td>\n",
       "    </tr>\n",
       "    <tr>\n",
       "      <th>381</th>\n",
       "      <td>0.765627</td>\n",
       "      <td>0.824575</td>\n",
       "      <td>1.593255</td>\n",
       "      <td>0.722069</td>\n",
       "      <td>-0.350738</td>\n",
       "      <td>0.577155</td>\n",
       "      <td>1.115575</td>\n",
       "      <td>1.423080</td>\n",
       "      <td>-1.342465</td>\n",
       "      <td>0.421958</td>\n",
       "      <td>...</td>\n",
       "      <td>-0.179605</td>\n",
       "      <td>-0.179605</td>\n",
       "      <td>-0.179605</td>\n",
       "      <td>-0.179605</td>\n",
       "      <td>-0.179605</td>\n",
       "      <td>-0.179605</td>\n",
       "      <td>-0.179605</td>\n",
       "      <td>-0.179605</td>\n",
       "      <td>-0.179605</td>\n",
       "      <td>-0.179605</td>\n",
       "    </tr>\n",
       "    <tr>\n",
       "      <th>382</th>\n",
       "      <td>0.457899</td>\n",
       "      <td>0.615948</td>\n",
       "      <td>1.593255</td>\n",
       "      <td>0.178038</td>\n",
       "      <td>0.114855</td>\n",
       "      <td>1.381980</td>\n",
       "      <td>0.943274</td>\n",
       "      <td>0.900520</td>\n",
       "      <td>-0.153032</td>\n",
       "      <td>0.678812</td>\n",
       "      <td>...</td>\n",
       "      <td>-0.179605</td>\n",
       "      <td>-0.179605</td>\n",
       "      <td>-0.179605</td>\n",
       "      <td>-0.179605</td>\n",
       "      <td>-0.179605</td>\n",
       "      <td>5.567764</td>\n",
       "      <td>-0.179605</td>\n",
       "      <td>-0.179605</td>\n",
       "      <td>-0.179605</td>\n",
       "      <td>-0.179605</td>\n",
       "    </tr>\n",
       "    <tr>\n",
       "      <th>383</th>\n",
       "      <td>-0.460072</td>\n",
       "      <td>0.288105</td>\n",
       "      <td>1.593255</td>\n",
       "      <td>-1.635399</td>\n",
       "      <td>-1.366579</td>\n",
       "      <td>1.129722</td>\n",
       "      <td>-0.779731</td>\n",
       "      <td>-0.055016</td>\n",
       "      <td>-1.599640</td>\n",
       "      <td>0.417111</td>\n",
       "      <td>...</td>\n",
       "      <td>-0.179605</td>\n",
       "      <td>-0.179605</td>\n",
       "      <td>-0.179605</td>\n",
       "      <td>-0.179605</td>\n",
       "      <td>-0.179605</td>\n",
       "      <td>-0.179605</td>\n",
       "      <td>5.567764</td>\n",
       "      <td>-0.179605</td>\n",
       "      <td>-0.179605</td>\n",
       "      <td>-0.179605</td>\n",
       "    </tr>\n",
       "  </tbody>\n",
       "</table>\n",
       "<p>384 rows × 48 columns</p>\n",
       "</div>"
      ],
      "text/plain": [
       "     WinLoss perc        PD      Year       FGM   FG_perc  RedZone_perc  \\\n",
       "0        1.954817  2.036601 -1.593255 -0.728680  0.622775      0.901487   \n",
       "1        0.979473  0.625882 -1.593255  0.722069 -0.943312     -1.825310   \n",
       "2       -0.324463 -0.596078 -1.593255  0.722069 -1.465341     -0.275720   \n",
       "3       -1.305022 -1.410719 -1.593255 -1.816742 -1.042074     -0.455905   \n",
       "4        1.302849  1.420653 -1.593255  0.540725 -0.731678     -0.864324   \n",
       "..            ...       ...       ...       ...       ...           ...   \n",
       "379     -1.075529 -0.993464  1.593255 -0.003306  0.862627     -0.239683   \n",
       "380      1.073356  0.874248  1.593255  1.084756  1.483418      0.577155   \n",
       "381      0.765627  0.824575  1.593255  0.722069 -0.350738      0.577155   \n",
       "382      0.457899  0.615948  1.593255  0.178038  0.114855      1.381980   \n",
       "383     -0.460072  0.288105  1.593255 -1.635399 -1.366579      1.129722   \n",
       "\n",
       "     playoff_win_perc  Score_perc  Turnover_perc  RushYperG  ...  \\\n",
       "0            1.783239    1.766476      -2.113990   0.480114  ...   \n",
       "1            1.234031   -0.443203      -0.442354   1.696539  ...   \n",
       "2           -0.779731   -0.816460       1.197135  -0.518228  ...   \n",
       "3           -0.779731   -1.473392       2.322274  -0.285605  ...   \n",
       "4            1.417101    0.258519      -0.795969   0.329878  ...   \n",
       "..                ...         ...            ...        ...  ...   \n",
       "379         -0.779731   -0.891111       0.939960  -0.241988  ...   \n",
       "380          1.287875    1.602243       0.071996  -0.697541  ...   \n",
       "381          1.115575    1.423080      -1.342465   0.421958  ...   \n",
       "382          0.943274    0.900520      -0.153032   0.678812  ...   \n",
       "383         -0.779731   -0.055016      -1.599640   0.417111  ...   \n",
       "\n",
       "     Team_New Orleans Saints  Team_New York Giants  Team_New York Jets  \\\n",
       "0                  -0.179605             -0.179605           -0.179605   \n",
       "1                  -0.179605             -0.179605            5.567764   \n",
       "2                  -0.179605             -0.179605           -0.179605   \n",
       "3                  -0.179605             -0.179605           -0.179605   \n",
       "4                  -0.179605             -0.179605           -0.179605   \n",
       "..                       ...                   ...                 ...   \n",
       "379                -0.179605             -0.179605           -0.179605   \n",
       "380                -0.179605             -0.179605           -0.179605   \n",
       "381                -0.179605             -0.179605           -0.179605   \n",
       "382                -0.179605             -0.179605           -0.179605   \n",
       "383                -0.179605             -0.179605           -0.179605   \n",
       "\n",
       "     Team_Philadelphia Eagles  Team_Pittsburgh Steelers  \\\n",
       "0                   -0.179605                 -0.179605   \n",
       "1                   -0.179605                 -0.179605   \n",
       "2                   -0.179605                 -0.179605   \n",
       "3                   -0.179605                 -0.179605   \n",
       "4                   -0.179605                  5.567764   \n",
       "..                        ...                       ...   \n",
       "379                 -0.179605                 -0.179605   \n",
       "380                 -0.179605                 -0.179605   \n",
       "381                 -0.179605                 -0.179605   \n",
       "382                 -0.179605                 -0.179605   \n",
       "383                 -0.179605                 -0.179605   \n",
       "\n",
       "     Team_San Francisco 49ers  Team_Seattle Seahawks  \\\n",
       "0                   -0.179605              -0.179605   \n",
       "1                   -0.179605              -0.179605   \n",
       "2                   -0.179605              -0.179605   \n",
       "3                   -0.179605              -0.179605   \n",
       "4                   -0.179605              -0.179605   \n",
       "..                        ...                    ...   \n",
       "379                 -0.179605              -0.179605   \n",
       "380                 -0.179605              -0.179605   \n",
       "381                 -0.179605              -0.179605   \n",
       "382                  5.567764              -0.179605   \n",
       "383                 -0.179605               5.567764   \n",
       "\n",
       "     Team_Tampa Bay Buccaneers  Team_Tennessee Titans  \\\n",
       "0                    -0.179605              -0.179605   \n",
       "1                    -0.179605              -0.179605   \n",
       "2                    -0.179605              -0.179605   \n",
       "3                    -0.179605              -0.179605   \n",
       "4                    -0.179605              -0.179605   \n",
       "..                         ...                    ...   \n",
       "379                  -0.179605              -0.179605   \n",
       "380                  -0.179605              -0.179605   \n",
       "381                  -0.179605              -0.179605   \n",
       "382                  -0.179605              -0.179605   \n",
       "383                  -0.179605              -0.179605   \n",
       "\n",
       "     Team_Washington Commanders  \n",
       "0                     -0.179605  \n",
       "1                     -0.179605  \n",
       "2                     -0.179605  \n",
       "3                     -0.179605  \n",
       "4                     -0.179605  \n",
       "..                          ...  \n",
       "379                   -0.179605  \n",
       "380                   -0.179605  \n",
       "381                   -0.179605  \n",
       "382                   -0.179605  \n",
       "383                   -0.179605  \n",
       "\n",
       "[384 rows x 48 columns]"
      ]
     },
     "execution_count": 79,
     "metadata": {},
     "output_type": "execute_result"
    }
   ],
   "source": [
    "# data scaling using standardization\n",
    "x = nfl.drop(\"Result\",axis = 1)\n",
    "y = nfl[\"Result\"]\n",
    "\n",
    "std_scaler = StandardScaler()\n",
    "array1 = std_scaler.fit_transform(x)   #x_mean , x_std ,as well as data tranform\n",
    "std_nfl = pd.DataFrame(array1 , columns=x.columns)\n",
    "std_nfl"
   ]
  },
  {
   "cell_type": "markdown",
   "id": "b879f3f5",
   "metadata": {},
   "source": [
    "# 6. MODEL TRAINING "
   ]
  },
  {
   "cell_type": "markdown",
   "id": "4f327b06",
   "metadata": {},
   "source": [
    "###### THE TARGET VARIABLE IS \"RESULT\" AND THE OUTPUT IS \"WIN\"/\"LOSS\" WHICH IS BINARY CLASSIFICATION PROBLEM"
   ]
  },
  {
   "cell_type": "code",
   "execution_count": 80,
   "id": "e184f978",
   "metadata": {},
   "outputs": [],
   "source": [
    "x = std_nfl\n",
    "y = nfl[\"Result\"]"
   ]
  },
  {
   "cell_type": "code",
   "execution_count": 81,
   "id": "ef9e6fce",
   "metadata": {},
   "outputs": [],
   "source": [
    "x_train,x_test,y_train,y_test = train_test_split(x,y,test_size=0.20,random_state=29,stratify=y)"
   ]
  },
  {
   "cell_type": "code",
   "execution_count": 82,
   "id": "c923c432",
   "metadata": {},
   "outputs": [
    {
     "data": {
      "text/plain": [
       "((307, 48), (77, 48), (307,), (77,))"
      ]
     },
     "execution_count": 82,
     "metadata": {},
     "output_type": "execute_result"
    }
   ],
   "source": [
    "x_train.shape,x_test.shape,y_train.shape,y_test.shape "
   ]
  },
  {
   "cell_type": "code",
   "execution_count": 85,
   "id": "a40d725e",
   "metadata": {},
   "outputs": [
    {
     "data": {
      "text/plain": [
       "LogisticRegression()"
      ]
     },
     "execution_count": 85,
     "metadata": {},
     "output_type": "execute_result"
    }
   ],
   "source": [
    "binc_model = LogisticRegression()\n",
    "binc_model.fit(x_train,y_train)"
   ]
  },
  {
   "cell_type": "code",
   "execution_count": 103,
   "id": "dc83b263",
   "metadata": {},
   "outputs": [
    {
     "data": {
      "text/plain": [
       "array([1, 0, 0, 0, 0, 0, 0, 0, 0, 0, 0, 1], dtype=int64)"
      ]
     },
     "execution_count": 103,
     "metadata": {},
     "output_type": "execute_result"
    }
   ],
   "source": [
    "#training \n",
    "binc_model.predict(x_train)[50:62]"
   ]
  },
  {
   "cell_type": "code",
   "execution_count": 104,
   "id": "b30db5ef",
   "metadata": {},
   "outputs": [
    {
     "data": {
      "text/plain": [
       "array([[4.68248005e-01, 5.31751995e-01],\n",
       "       [9.99941026e-01, 5.89736762e-05],\n",
       "       [9.98361991e-01, 1.63800928e-03],\n",
       "       [9.97425617e-01, 2.57438299e-03],\n",
       "       [9.20080013e-01, 7.99199865e-02],\n",
       "       [9.98609080e-01, 1.39092009e-03],\n",
       "       [9.99938476e-01, 6.15244862e-05],\n",
       "       [9.98567108e-01, 1.43289229e-03],\n",
       "       [9.59332895e-01, 4.06671050e-02],\n",
       "       [9.99914891e-01, 8.51090410e-05],\n",
       "       [9.88989390e-01, 1.10106097e-02],\n",
       "       [3.66037930e-01, 6.33962070e-01]])"
      ]
     },
     "execution_count": 104,
     "metadata": {},
     "output_type": "execute_result"
    }
   ],
   "source": [
    "binc_model.predict_proba(x_train)[50:62]"
   ]
  },
  {
   "cell_type": "code",
   "execution_count": 121,
   "id": "af07765b",
   "metadata": {},
   "outputs": [
    {
     "data": {
      "text/plain": [
       "array([1, 0, 0, 0, 0, 0], dtype=int64)"
      ]
     },
     "execution_count": 121,
     "metadata": {},
     "output_type": "execute_result"
    }
   ],
   "source": [
    "#testing \n",
    "binc_model.predict(x_test)[59:65]"
   ]
  },
  {
   "cell_type": "code",
   "execution_count": 124,
   "id": "b9ed160a",
   "metadata": {},
   "outputs": [
    {
     "data": {
      "text/plain": [
       "array([[2.17979881e-01, 7.82020119e-01],\n",
       "       [9.99536479e-01, 4.63520701e-04],\n",
       "       [9.99964443e-01, 3.55567639e-05],\n",
       "       [9.96409772e-01, 3.59022778e-03],\n",
       "       [9.99937668e-01, 6.23322513e-05],\n",
       "       [9.81804977e-01, 1.81950232e-02]])"
      ]
     },
     "execution_count": 124,
     "metadata": {},
     "output_type": "execute_result"
    }
   ],
   "source": [
    "binc_model.predict_proba(x_test)[59:65]"
   ]
  },
  {
   "cell_type": "code",
   "execution_count": 160,
   "id": "e3ab9128",
   "metadata": {},
   "outputs": [],
   "source": [
    "from sklearn.metrics import precision_score , recall_score , f1_score ,roc_curve"
   ]
  },
  {
   "cell_type": "markdown",
   "id": "a24761f3",
   "metadata": {},
   "source": [
    "# MODEL EVALUATION "
   ]
  },
  {
   "cell_type": "code",
   "execution_count": 128,
   "id": "166ad532",
   "metadata": {},
   "outputs": [],
   "source": [
    "### Training  Data Model Evaluation \n",
    "\n",
    "def model_eval(model,x,y):\n",
    "    y_pred = model.predict(x)\n",
    "\n",
    "    con_mat = confusion_matrix(y,y_pred)\n",
    "    print(f\"Confusion Matrix = \\n{con_mat}\")\n",
    "\n",
    "    print(\"*\"*50)\n",
    "    acc = accuracy_score(y,y_pred)\n",
    "    print(f\"Accuracy Score = {acc}\")\n",
    "\n",
    "    precision_val = precision_score(y,y_pred)\n",
    "    print(f\"Precision Score = {precision_val}\")\n",
    "\n",
    "    recall_val = recall_score(y,y_pred)\n",
    "    print(f\"Recall Score = {recall_val}\")\n",
    "\n",
    "    f1_val = f1_score(y,y_pred)\n",
    "    print(f\"f1-score = {f1_val}\")\n",
    "    print(\"*\"*50)\n",
    "    clf_report = classification_report(y,y_pred)\n",
    "    print(f\"Classification Report = \\n{clf_report}\")\n",
    "    \n",
    "    return \"Model Performance\"\n"
   ]
  },
  {
   "cell_type": "code",
   "execution_count": 129,
   "id": "aaab739d",
   "metadata": {},
   "outputs": [
    {
     "name": "stdout",
     "output_type": "stream",
     "text": [
      "Confusion Matrix = \n",
      "[[296   1]\n",
      " [  5   5]]\n",
      "**************************************************\n",
      "Accuracy Score = 0.9804560260586319\n",
      "Precision Score = 0.8333333333333334\n",
      "Recall Score = 0.5\n",
      "f1-score = 0.625\n",
      "**************************************************\n",
      "Classification Report = \n",
      "              precision    recall  f1-score   support\n",
      "\n",
      "           0       0.98      1.00      0.99       297\n",
      "           1       0.83      0.50      0.62        10\n",
      "\n",
      "    accuracy                           0.98       307\n",
      "   macro avg       0.91      0.75      0.81       307\n",
      "weighted avg       0.98      0.98      0.98       307\n",
      "\n"
     ]
    },
    {
     "data": {
      "text/plain": [
       "'Model Performance'"
      ]
     },
     "execution_count": 129,
     "metadata": {},
     "output_type": "execute_result"
    }
   ],
   "source": [
    "# Training data\n",
    "model_eval(binc_model,x_train,y_train)"
   ]
  },
  {
   "cell_type": "code",
   "execution_count": 131,
   "id": "dce89ee0",
   "metadata": {},
   "outputs": [
    {
     "name": "stdout",
     "output_type": "stream",
     "text": [
      "Confusion Matrix = \n",
      "[[74  1]\n",
      " [ 2  0]]\n",
      "**************************************************\n",
      "Accuracy Score = 0.961038961038961\n",
      "Precision Score = 0.0\n",
      "Recall Score = 0.0\n",
      "f1-score = 0.0\n",
      "**************************************************\n",
      "Classification Report = \n",
      "              precision    recall  f1-score   support\n",
      "\n",
      "           0       0.97      0.99      0.98        75\n",
      "           1       0.00      0.00      0.00         2\n",
      "\n",
      "    accuracy                           0.96        77\n",
      "   macro avg       0.49      0.49      0.49        77\n",
      "weighted avg       0.95      0.96      0.95        77\n",
      "\n"
     ]
    },
    {
     "data": {
      "text/plain": [
       "'Model Performance'"
      ]
     },
     "execution_count": 131,
     "metadata": {},
     "output_type": "execute_result"
    }
   ],
   "source": [
    "# Testing data\n",
    "model_eval(binc_model,x_test,y_test)"
   ]
  },
  {
   "cell_type": "markdown",
   "id": "9dda895e",
   "metadata": {},
   "source": [
    "# BAIS VARIANCE & TRADEOFF"
   ]
  },
  {
   "cell_type": "code",
   "execution_count": 159,
   "id": "ab4c5f28",
   "metadata": {},
   "outputs": [
    {
     "name": "stdout",
     "output_type": "stream",
     "text": [
      "💙 BEST FIT MODEL 💙\n"
     ]
    }
   ],
   "source": [
    "# MODEL ACCEPTANCE = 95%\n",
    "# TRAINING = Accuracy Score = 0.9804560260586319\n",
    "# TESTING  = Accuracy Score = 0.961038961038961\n",
    "\n",
    "BIAS = \"low bias\"\n",
    "VARIANCE = \"low variance\" \n",
    "\n",
    "print(\"\\U0001F499\",\"BEST FIT MODEL\",\"\\U0001F499\")"
   ]
  },
  {
   "cell_type": "code",
   "execution_count": null,
   "id": "14f4cb23",
   "metadata": {},
   "outputs": [],
   "source": []
  },
  {
   "cell_type": "markdown",
   "id": "5543942f",
   "metadata": {},
   "source": [
    "# ROC_CURVE"
   ]
  },
  {
   "cell_type": "code",
   "execution_count": 163,
   "id": "7bb596e0",
   "metadata": {},
   "outputs": [
    {
     "data": {
      "text/plain": [
       "array([[9.98291376e-01, 1.70862414e-03],\n",
       "       [9.99971251e-01, 2.87493590e-05],\n",
       "       [9.99809874e-01, 1.90126214e-04],\n",
       "       [9.99953663e-01, 4.63370658e-05],\n",
       "       [9.97175351e-01, 2.82464942e-03]])"
      ]
     },
     "execution_count": 163,
     "metadata": {},
     "output_type": "execute_result"
    }
   ],
   "source": [
    "y_test_prob = binc_model.predict_proba(x_test)\n",
    "y_test_prob[0:5]"
   ]
  },
  {
   "cell_type": "code",
   "execution_count": 169,
   "id": "cc5d257d",
   "metadata": {},
   "outputs": [
    {
     "data": {
      "text/plain": [
       "array([1.70862414e-03, 2.87493590e-05, 1.90126214e-04, 4.63370658e-05,\n",
       "       2.82464942e-03, 1.87664718e-04, 1.79942860e-03, 1.83648998e-04,\n",
       "       2.15580951e-02, 2.73808005e-03, 2.88308399e-04, 2.82009571e-05,\n",
       "       1.84058072e-02, 3.23755389e-01, 1.15943554e-01, 3.16473514e-03,\n",
       "       2.69339312e-03, 7.78643382e-05, 1.53113031e-04, 2.20520256e-05,\n",
       "       1.46619964e-03, 5.01061207e-05, 1.88420130e-04, 1.77936240e-03,\n",
       "       1.73007818e-02, 2.32416115e-02, 5.03521372e-02, 2.82772280e-03,\n",
       "       2.30796111e-04, 2.55936224e-04, 5.76207729e-03, 2.34971911e-05,\n",
       "       2.43552401e-03, 3.99292869e-03, 3.65115874e-04, 7.89389211e-02,\n",
       "       1.62536723e-02, 1.25226459e-04, 2.28914818e-05, 2.04371443e-03,\n",
       "       7.72746911e-05, 5.52664293e-02, 7.37079434e-05, 7.24370373e-02,\n",
       "       1.87764841e-04, 1.70604456e-02, 2.61524665e-02, 4.53734488e-03,\n",
       "       4.06841818e-03, 9.39548382e-04, 1.30190665e-03, 2.85533622e-04,\n",
       "       3.16788400e-04, 1.03737644e-04, 2.03546838e-03, 3.64929029e-03,\n",
       "       1.01388900e-04, 6.21572908e-05, 3.99318316e-03, 7.82020119e-01,\n",
       "       4.63520701e-04, 3.55567639e-05, 3.59022778e-03, 6.23322513e-05,\n",
       "       1.81950232e-02, 2.24801648e-04, 1.97838625e-05, 3.36799152e-03,\n",
       "       4.05398270e-03, 8.02528481e-03, 8.84863538e-05, 1.25899345e-04,\n",
       "       6.79239359e-05, 8.12632287e-05, 3.06587934e-04, 4.78861273e-04,\n",
       "       2.71413155e-03])"
      ]
     },
     "execution_count": 169,
     "metadata": {},
     "output_type": "execute_result"
    }
   ],
   "source": [
    "class_1 = y_test_prob[:,1]\n",
    "class_1"
   ]
  },
  {
   "cell_type": "code",
   "execution_count": null,
   "id": "b05454eb",
   "metadata": {},
   "outputs": [],
   "source": []
  },
  {
   "cell_type": "code",
   "execution_count": 188,
   "id": "409c8cb3",
   "metadata": {},
   "outputs": [],
   "source": [
    "fpr, tpr, thesh = roc_curve(y_test,class_1)"
   ]
  },
  {
   "cell_type": "code",
   "execution_count": 189,
   "id": "370edf49",
   "metadata": {},
   "outputs": [
    {
     "data": {
      "text/plain": [
       "array([0.        , 0.01333333, 0.10666667, 0.10666667, 0.2       ,\n",
       "       0.2       , 1.        ])"
      ]
     },
     "execution_count": 189,
     "metadata": {},
     "output_type": "execute_result"
    }
   ],
   "source": [
    "fpr"
   ]
  },
  {
   "cell_type": "code",
   "execution_count": 190,
   "id": "d4ed3b96",
   "metadata": {},
   "outputs": [],
   "source": [
    "import matplotlib.pyplot as plt"
   ]
  },
  {
   "cell_type": "code",
   "execution_count": 208,
   "id": "ae5ebdeb",
   "metadata": {},
   "outputs": [
    {
     "data": {
      "text/plain": [
       "Text(0.5, 1.0, 'ROC Curve Testing')"
      ]
     },
     "execution_count": 208,
     "metadata": {},
     "output_type": "execute_result"
    },
    {
     "data": {
      "image/png": "[encoded data removed]",
      "text/plain": [
       "<Figure size 432x288 with 1 Axes>"
      ]
     },
     "metadata": {
      "needs_background": "light"
     },
     "output_type": "display_data"
    }
   ],
   "source": [
    "y_test_prob = binc_model.predict_proba(x_test)\n",
    "class_1 = y_test_prob[:,1]\n",
    "class_1\n",
    "fpr, tpr, thesh = roc_curve(y_test,class_1)\n",
    "\n",
    "plt.plot(fpr,tpr)\n",
    "plt.xlabel(\"FPR\")\n",
    "plt.ylabel(\"TPR\")\n",
    "plt.title(\"ROC Curve Testing\")"
   ]
  },
  {
   "cell_type": "code",
   "execution_count": 209,
   "id": "383c34b5",
   "metadata": {},
   "outputs": [
    {
     "data": {
      "text/plain": [
       "Text(0.5, 1.0, 'ROC Curve Training')"
      ]
     },
     "execution_count": 209,
     "metadata": {},
     "output_type": "execute_result"
    },
    {
     "data": {
      "image/png": "[encoded data removed]",
      "text/plain": [
       "<Figure size 432x288 with 1 Axes>"
      ]
     },
     "metadata": {
      "needs_background": "light"
     },
     "output_type": "display_data"
    }
   ],
   "source": [
    "y_train_prob = binc_model.predict_proba(x_train)\n",
    "class1_prob1 = y_train_prob[:,1]\n",
    "class1_prob1\n",
    "fpr1, tpr1, thesh1 = roc_curve(y_train,class1_prob1)\n",
    "\n",
    "plt.plot(fpr1,tpr1)\n",
    "plt.xlabel(\"FPR\")\n",
    "plt.ylabel(\"TPR\")\n",
    "plt.title(\"ROC Curve Training\")"
   ]
  },
  {
   "cell_type": "code",
   "execution_count": 210,
   "id": "bf849453",
   "metadata": {},
   "outputs": [
    {
     "data": {
      "text/plain": [
       "array([1.65450717e+00, 6.54507165e-01, 6.33962070e-01, 3.98351546e-01,\n",
       "       2.84313918e-01, 2.59817554e-01, 2.35731873e-01, 1.51508186e-01,\n",
       "       2.79564872e-06])"
      ]
     },
     "execution_count": 210,
     "metadata": {},
     "output_type": "execute_result"
    }
   ],
   "source": [
    "thesh1"
   ]
  },
  {
   "cell_type": "code",
   "execution_count": 213,
   "id": "2e539f4c",
   "metadata": {},
   "outputs": [
    {
     "data": {
      "text/plain": [
       "Text(0.5, 1.0, 'ROC Curve Training')"
      ]
     },
     "execution_count": 213,
     "metadata": {},
     "output_type": "execute_result"
    },
    {
     "data": {
      "image/png": "[encoded data removed]",
      "text/plain": [
       "<Figure size 432x288 with 1 Axes>"
      ]
     },
     "metadata": {
      "needs_background": "light"
     },
     "output_type": "display_data"
    }
   ],
   "source": [
    "#Testing\n",
    "plt.plot(fpr,tpr)\n",
    "\n",
    "#training \n",
    "plt.plot(fpr1,tpr1)\n",
    "\n",
    "plt.xlabel(\"FPR\")\n",
    "plt.ylabel(\"TPR\")\n",
    "plt.title(\"ROC Curve Training\")"
   ]
  },
  {
   "cell_type": "code",
   "execution_count": null,
   "id": "311982cf",
   "metadata": {},
   "outputs": [],
   "source": []
  },
  {
   "cell_type": "markdown",
   "id": "280879b0",
   "metadata": {},
   "source": [
    "# USER TEST FUNCTION"
   ]
  },
  {
   "cell_type": "code",
   "execution_count": 226,
   "id": "f8bc740b",
   "metadata": {},
   "outputs": [],
   "source": [
    "with open(\"binary_clas_model.pkl\",\"wb\") as m_file:\n",
    "    pickle.dump(binc_model,m_file)"
   ]
  },
  {
   "cell_type": "code",
   "execution_count": 228,
   "id": "d4a3b74e",
   "metadata": {},
   "outputs": [
    {
     "name": "stdout",
     "output_type": "stream",
     "text": [
      "[0 0 0 0 0 0 0 0 0 0 0 0 0 0 0 0 0 0 0 0 0 0 0 0 0 0 0 0 0 0 0 0 0 0 0 0 0\n",
      " 0 0 0 0 0 0 0 0 0 0 0 0 0 0 0 0 0 0 0 0 0 0 0 0 0 0 0 0 0 0 0 0 0 0 0 0 0\n",
      " 0 0 0 0 0 0 0 0 0 0 0 0 0 0 0 0 0 0 0 0 0 0 0 0 0 0 0 0 0 0 0 0 0 0 0 0 0\n",
      " 0 0 0 0 0 0 0 0 0 0 0 0 0 0 0 0 0 1 0 0 0 0 0 0 0 0 0 0 0 0 0 0 0 0 0 0 0\n",
      " 0 0 0 0 0 0 0 0 0 0 0 0 1 0 0 0 0 0 0 0 0 0 0 0 0 0 0 0 0 0 0 0 0 0 0 0 0\n",
      " 0 0 0 0 0 0 0 1 0 0 0 0 0 0 0 0 0 0 0 0 0 0 0 0 1 0 0 0 0 0 0 0 0 0 0 0 0\n",
      " 0 0 0 0 0 0 0 0 0 0 0 0 0 0 0 0 0 0 1 0 0 0 0 0 0 0 0 0 0 0 0 0 0 0 0 0 0\n",
      " 0 0 0 0 0 0 0 0 0 0 0 0 0 0 0 0 0 0 0 0 0 0 0 0 0 0 0 0 0 0 0 0 0 0 0 0 0\n",
      " 0 0 0 0 1 0 0 0 0 0 0 0 0 0 0 0 0 0 0 0 0 0 0 0 0 0 0 0 0 0 0 0 0 0 0 0 0\n",
      " 0 0 0 0 0 0 0 0 0 0 0 0 1 0 0 0 0 0 0 0 0 0 0 0 0 0 0 0 0 0 0 0 0 0 0 0 0\n",
      " 0 0 0 0 0 0 0 0 0 0 0 0 0 0]\n"
     ]
    }
   ],
   "source": [
    "data = x\n",
    "\n",
    "price = binc_model.predict(data)\n",
    "print(price)"
   ]
  },
  {
   "cell_type": "code",
   "execution_count": 231,
   "id": "8289136c",
   "metadata": {},
   "outputs": [
    {
     "data": {
      "text/html": [
       "<div>\n",
       "<style scoped>\n",
       "    .dataframe tbody tr th:only-of-type {\n",
       "        vertical-align: middle;\n",
       "    }\n",
       "\n",
       "    .dataframe tbody tr th {\n",
       "        vertical-align: top;\n",
       "    }\n",
       "\n",
       "    .dataframe thead th {\n",
       "        text-align: right;\n",
       "    }\n",
       "</style>\n",
       "<table border=\"1\" class=\"dataframe\">\n",
       "  <thead>\n",
       "    <tr style=\"text-align: right;\">\n",
       "      <th></th>\n",
       "      <th>WinLoss perc</th>\n",
       "      <th>PD</th>\n",
       "      <th>Year</th>\n",
       "      <th>FGM</th>\n",
       "      <th>FG_perc</th>\n",
       "      <th>RedZone_perc</th>\n",
       "      <th>playoff_win_perc</th>\n",
       "      <th>Score_perc</th>\n",
       "      <th>Turnover_perc</th>\n",
       "      <th>RushYperG</th>\n",
       "      <th>...</th>\n",
       "      <th>Team_New Orleans Saints</th>\n",
       "      <th>Team_New York Giants</th>\n",
       "      <th>Team_New York Jets</th>\n",
       "      <th>Team_Philadelphia Eagles</th>\n",
       "      <th>Team_Pittsburgh Steelers</th>\n",
       "      <th>Team_San Francisco 49ers</th>\n",
       "      <th>Team_Seattle Seahawks</th>\n",
       "      <th>Team_Tampa Bay Buccaneers</th>\n",
       "      <th>Team_Tennessee Titans</th>\n",
       "      <th>Team_Washington Commanders</th>\n",
       "    </tr>\n",
       "  </thead>\n",
       "  <tbody>\n",
       "    <tr>\n",
       "      <th>383</th>\n",
       "      <td>-0.460072</td>\n",
       "      <td>0.288105</td>\n",
       "      <td>1.593255</td>\n",
       "      <td>-1.635399</td>\n",
       "      <td>-1.366579</td>\n",
       "      <td>1.129722</td>\n",
       "      <td>-0.779731</td>\n",
       "      <td>-0.055016</td>\n",
       "      <td>-1.59964</td>\n",
       "      <td>0.417111</td>\n",
       "      <td>...</td>\n",
       "      <td>-0.179605</td>\n",
       "      <td>-0.179605</td>\n",
       "      <td>-0.179605</td>\n",
       "      <td>-0.179605</td>\n",
       "      <td>-0.179605</td>\n",
       "      <td>-0.179605</td>\n",
       "      <td>5.567764</td>\n",
       "      <td>-0.179605</td>\n",
       "      <td>-0.179605</td>\n",
       "      <td>-0.179605</td>\n",
       "    </tr>\n",
       "  </tbody>\n",
       "</table>\n",
       "<p>1 rows × 48 columns</p>\n",
       "</div>"
      ],
      "text/plain": [
       "     WinLoss perc        PD      Year       FGM   FG_perc  RedZone_perc  \\\n",
       "383     -0.460072  0.288105  1.593255 -1.635399 -1.366579      1.129722   \n",
       "\n",
       "     playoff_win_perc  Score_perc  Turnover_perc  RushYperG  ...  \\\n",
       "383         -0.779731   -0.055016       -1.59964   0.417111  ...   \n",
       "\n",
       "     Team_New Orleans Saints  Team_New York Giants  Team_New York Jets  \\\n",
       "383                -0.179605             -0.179605           -0.179605   \n",
       "\n",
       "     Team_Philadelphia Eagles  Team_Pittsburgh Steelers  \\\n",
       "383                 -0.179605                 -0.179605   \n",
       "\n",
       "     Team_San Francisco 49ers  Team_Seattle Seahawks  \\\n",
       "383                 -0.179605               5.567764   \n",
       "\n",
       "     Team_Tampa Bay Buccaneers  Team_Tennessee Titans  \\\n",
       "383                  -0.179605              -0.179605   \n",
       "\n",
       "     Team_Washington Commanders  \n",
       "383                   -0.179605  \n",
       "\n",
       "[1 rows x 48 columns]"
      ]
     },
     "execution_count": 231,
     "metadata": {},
     "output_type": "execute_result"
    }
   ],
   "source": [
    "data = x.tail(1)\n",
    "data"
   ]
  },
  {
   "cell_type": "code",
   "execution_count": 234,
   "id": "7af2eff2",
   "metadata": {},
   "outputs": [
    {
     "data": {
      "text/plain": [
       "array([0], dtype=int64)"
      ]
     },
     "execution_count": 234,
     "metadata": {},
     "output_type": "execute_result"
    }
   ],
   "source": [
    "result = binc_model.predict(data)\n",
    "result"
   ]
  },
  {
   "cell_type": "markdown",
   "id": "0b06651b",
   "metadata": {},
   "source": [
    "# json"
   ]
  },
  {
   "cell_type": "code",
   "execution_count": 236,
   "id": "087d17fd",
   "metadata": {},
   "outputs": [
    {
     "name": "stdout",
     "output_type": "stream",
     "text": [
      "['WinLoss perc', 'PD', 'Year', 'FGM', 'FG_perc', 'RedZone_perc', 'playoff_win_perc', 'Score_perc', 'Turnover_perc', 'RushYperG', 'PassYperG', 'PointperG', 'possperG', 'YallowedperG', 'PointallowedperG', 'perc_punt_20', 'Team_Arizona Cardinals', 'Team_Atlanta Falcons', 'Team_Baltimore Ravens', 'Team_Buffalo Bills', 'Team_Carolina Panthers', 'Team_Chicago Bears', 'Team_Cincinnati Bengals', 'Team_Cleveland Browns', 'Team_Dallas Cowboys', 'Team_Denver Broncos', 'Team_Detroit Lions', 'Team_Green Bay Packers', 'Team_Houston Texans', 'Team_Indianapolis Colts', 'Team_Jacksonville Jaguars', 'Team_Kansas City Chiefs', 'Team_Las Vegas Raiders', 'Team_Los Angeles Chargers', 'Team_Los Angeles Rams', 'Team_Miami Dolphins', 'Team_Minnesota Vikings', 'Team_New England Patriots', 'Team_New Orleans Saints', 'Team_New York Giants', 'Team_New York Jets', 'Team_Philadelphia Eagles', 'Team_Pittsburgh Steelers', 'Team_San Francisco 49ers', 'Team_Seattle Seahawks', 'Team_Tampa Bay Buccaneers', 'Team_Tennessee Titans', 'Team_Washington Commanders']\n"
     ]
    }
   ],
   "source": [
    "print (x.columns.tolist())"
   ]
  },
  {
   "cell_type": "code",
   "execution_count": 238,
   "id": "a27fbf25",
   "metadata": {},
   "outputs": [],
   "source": [
    "input_values = {\"input_features\":x.columns.tolist()}\n",
    "\n",
    "with open('Input_Features.json','w') as in_file: \n",
    "    json.dump(input_values,in_file)"
   ]
  },
  {
   "cell_type": "code",
   "execution_count": null,
   "id": "67074c1f",
   "metadata": {},
   "outputs": [],
   "source": []
  },
  {
   "cell_type": "code",
   "execution_count": null,
   "id": "83445e19",
   "metadata": {},
   "outputs": [],
   "source": []
  }
 ],
 "metadata": {
  "kernelspec": {
   "display_name": "Python 3 (ipykernel)",
   "language": "python",
   "name": "python3"
  },
  "language_info": {
   "codemirror_mode": {
    "name": "ipython",
    "version": 3
   },
   "file_extension": ".py",
   "mimetype": "text/x-python",
   "name": "python",
   "nbconvert_exporter": "python",
   "pygments_lexer": "ipython3",
   "version": "3.9.12"
  }
 },
 "nbformat": 4,
 "nbformat_minor": 5
}
