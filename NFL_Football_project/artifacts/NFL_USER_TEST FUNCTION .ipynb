{
 "cells": [
  {
   "cell_type": "code",
   "execution_count": 2,
   "id": "6ccff93c",
   "metadata": {},
   "outputs": [],
   "source": [
    "import pandas as pd \n",
    "import numpy as np \n",
    "import pickle \n",
    "import json"
   ]
  },
  {
   "cell_type": "code",
   "execution_count": 3,
   "id": "374b2fe5",
   "metadata": {},
   "outputs": [
    {
     "data": {
      "text/plain": [
       "Index(['Team', 'WinLoss perc', 'PD', 'Year', 'FGM', 'FG_perc', 'RedZone_perc',\n",
       "       'playoff_win_perc', 'Score_perc', 'Turnover_perc', 'RushYperG',\n",
       "       'PassYperG', 'PointperG', 'possperG', 'YallowedperG',\n",
       "       'PointallowedperG', 'perc_punt_20', 'Result'],\n",
       "      dtype='object')"
      ]
     },
     "execution_count": 3,
     "metadata": {},
     "output_type": "execute_result"
    }
   ],
   "source": [
    "nfl = pd.read_csv(\"NFL_data.csv\")\n",
    "nfl.columns"
   ]
  },
  {
   "cell_type": "code",
   "execution_count": 4,
   "id": "e5b1d950",
   "metadata": {},
   "outputs": [
    {
     "data": {
      "text/html": [
       "<div>\n",
       "<style scoped>\n",
       "    .dataframe tbody tr th:only-of-type {\n",
       "        vertical-align: middle;\n",
       "    }\n",
       "\n",
       "    .dataframe tbody tr th {\n",
       "        vertical-align: top;\n",
       "    }\n",
       "\n",
       "    .dataframe thead th {\n",
       "        text-align: right;\n",
       "    }\n",
       "</style>\n",
       "<table border=\"1\" class=\"dataframe\">\n",
       "  <thead>\n",
       "    <tr style=\"text-align: right;\">\n",
       "      <th></th>\n",
       "      <th>Team</th>\n",
       "      <th>WinLoss perc</th>\n",
       "      <th>PD</th>\n",
       "      <th>Year</th>\n",
       "      <th>FGM</th>\n",
       "      <th>FG_perc</th>\n",
       "      <th>RedZone_perc</th>\n",
       "      <th>playoff_win_perc</th>\n",
       "      <th>Score_perc</th>\n",
       "      <th>Turnover_perc</th>\n",
       "      <th>RushYperG</th>\n",
       "      <th>PassYperG</th>\n",
       "      <th>PointperG</th>\n",
       "      <th>possperG</th>\n",
       "      <th>YallowedperG</th>\n",
       "      <th>PointallowedperG</th>\n",
       "      <th>perc_punt_20</th>\n",
       "      <th>Result</th>\n",
       "    </tr>\n",
       "  </thead>\n",
       "  <tbody>\n",
       "    <tr>\n",
       "      <th>383</th>\n",
       "      <td>Seattle Seahawks</td>\n",
       "      <td>41.2</td>\n",
       "      <td>29</td>\n",
       "      <td>2021</td>\n",
       "      <td>17</td>\n",
       "      <td>73.9</td>\n",
       "      <td>64.6</td>\n",
       "      <td>0.0</td>\n",
       "      <td>34.8</td>\n",
       "      <td>7.0</td>\n",
       "      <td>122.0</td>\n",
       "      <td>201.9</td>\n",
       "      <td>23.2</td>\n",
       "      <td>0.425833</td>\n",
       "      <td>379.1</td>\n",
       "      <td>21.5</td>\n",
       "      <td>48.2</td>\n",
       "      <td>Loss</td>\n",
       "    </tr>\n",
       "  </tbody>\n",
       "</table>\n",
       "</div>"
      ],
      "text/plain": [
       "                 Team  WinLoss perc  PD  Year  FGM  FG_perc  RedZone_perc  \\\n",
       "383  Seattle Seahawks          41.2  29  2021   17     73.9          64.6   \n",
       "\n",
       "     playoff_win_perc  Score_perc  Turnover_perc  RushYperG  PassYperG  \\\n",
       "383               0.0        34.8            7.0      122.0      201.9   \n",
       "\n",
       "     PointperG  possperG  YallowedperG  PointallowedperG  perc_punt_20 Result  \n",
       "383       23.2  0.425833         379.1              21.5          48.2   Loss  "
      ]
     },
     "execution_count": 4,
     "metadata": {},
     "output_type": "execute_result"
    }
   ],
   "source": [
    "nfl.tail(1)"
   ]
  },
  {
   "cell_type": "code",
   "execution_count": 5,
   "id": "7f86e5f5",
   "metadata": {},
   "outputs": [
    {
     "name": "stdout",
     "output_type": "stream",
     "text": [
      "[['Seattle Seahawks', 41.2, 29, 2021, 17, 73.9, 64.6, 0.0, 34.8, 7.0, 122.0, 201.9, 23.2, 0.425833333333333, 379.1, 21.5, 48.2, 'Loss']]\n"
     ]
    }
   ],
   "source": [
    "print ((nfl.tail(1).values.tolist()))"
   ]
  },
  {
   "cell_type": "code",
   "execution_count": 6,
   "id": "0da9b557",
   "metadata": {},
   "outputs": [
    {
     "name": "stdout",
     "output_type": "stream",
     "text": [
      "\n",
      "[4.120e+01 2.900e+01 2.021e+03 1.700e+01 7.390e+01 6.460e+01 0.000e+00\n",
      " 3.480e+01 7.000e+00 1.220e+02 2.019e+02 2.320e+01 4.250e-01 3.791e+02\n",
      " 2.550e+01 4.820e+01 0.000e+00 0.000e+00 0.000e+00 0.000e+00 0.000e+00\n",
      " 0.000e+00 0.000e+00 0.000e+00 0.000e+00 0.000e+00 0.000e+00 0.000e+00\n",
      " 0.000e+00 0.000e+00 0.000e+00 0.000e+00 0.000e+00 0.000e+00 0.000e+00\n",
      " 0.000e+00 0.000e+00 0.000e+00 0.000e+00 0.000e+00 0.000e+00 0.000e+00\n",
      " 0.000e+00 0.000e+00 1.000e+00 0.000e+00 0.000e+00 0.000e+00]\n",
      "\n",
      "💙Loss\n"
     ]
    },
    {
     "name": "stderr",
     "output_type": "stream",
     "text": [
      "C:\\ProgramData\\Anaconda3\\lib\\site-packages\\sklearn\\base.py:450: UserWarning: X does not have valid feature names, but LogisticRegression was fitted with feature names\n",
      "  warnings.warn(\n"
     ]
    }
   ],
   "source": [
    "with open(\"binary_clas_model.pkl\",\"rb\") as m_file:\n",
    "    bmodel = pickle.load(m_file)\n",
    "    \n",
    "\n",
    "with open('Input_Features.json','r') as in_file: \n",
    "    input_featues = json.load(in_file)\n",
    "    \n",
    "user_input = np.zeros(len(input_featues['input_features']))    \n",
    "# print(user_input)\n",
    "\n",
    "array = np.array(input_featues['input_features'])\n",
    "\n",
    "\n",
    "Team = 'Seattle Seahawks'\n",
    "WinLoss_perc = 41.2\n",
    "PD  =    29\n",
    "Year =     2021\n",
    "FGM   =   17\n",
    "FG_perc =   73.9    \n",
    "RedZone_perc =  64.6   \n",
    "playoff_win_perc =  0.0   \n",
    "Score_perc      = 34.8\n",
    "Turnover_perc    =  7.0\n",
    "RushYperG   =122.0\n",
    "PassYperG    =  201.9\n",
    "PointperG     = 23.2\n",
    "possperG      =0.425\n",
    "YallowedperG   = 379.1\n",
    "PointallowedperG =    25.5  \n",
    "perc_punt_20  = 48.2\n",
    "\n",
    "\n",
    "\n",
    "team_string = \"Team_\"+Team\n",
    "Team_index = np.where(array == team_string)[0]\n",
    "user_input[Team_index] = 1\n",
    "\n",
    "user_input[0] = WinLoss_perc\n",
    "user_input[1] =PD\n",
    "user_input[2] = Year\n",
    "user_input[3] =FGM\n",
    "user_input[4]=FG_perc\n",
    "user_input[5]=RedZone_perc\n",
    "user_input[6]=playoff_win_perc\n",
    "user_input[7]=Score_perc\n",
    "user_input[8]=Turnover_perc\n",
    "user_input[9]=RushYperG\n",
    "user_input[10]=PassYperG\n",
    "user_input[11]=PointperG\n",
    "user_input[12]=possperG\n",
    "user_input[13]=YallowedperG\n",
    "user_input[14]=PointallowedperG\n",
    "user_input[15]=perc_punt_20\n",
    "\n",
    "print ()\n",
    "print (user_input)\n",
    "print ()\n",
    "\n",
    "Match_Result = bmodel.predict([user_input])\n",
    "# print (Match_Result)\n",
    "\n",
    "if Match_Result==0:\n",
    "    print (\"\\U0001F499Loss\")\n",
    "else:\n",
    "    print (\"\\U0001F499Win\")"
   ]
  },
  {
   "cell_type": "markdown",
   "id": "bb68452c",
   "metadata": {},
   "source": [
    "# Explanation of above "
   ]
  },
  {
   "cell_type": "code",
   "execution_count": 7,
   "id": "bb06a209",
   "metadata": {},
   "outputs": [],
   "source": [
    "team_string = \"Team_\"+Team"
   ]
  },
  {
   "cell_type": "code",
   "execution_count": 8,
   "id": "66f2af87",
   "metadata": {},
   "outputs": [
    {
     "data": {
      "text/plain": [
       "'Team_Seattle Seahawks'"
      ]
     },
     "execution_count": 8,
     "metadata": {},
     "output_type": "execute_result"
    }
   ],
   "source": [
    "team_string"
   ]
  },
  {
   "cell_type": "code",
   "execution_count": 9,
   "id": "594245aa",
   "metadata": {},
   "outputs": [],
   "source": [
    "array = np.array(input_featues['input_features'])"
   ]
  },
  {
   "cell_type": "code",
   "execution_count": 10,
   "id": "8b89256f",
   "metadata": {},
   "outputs": [
    {
     "data": {
      "text/plain": [
       "array(['WinLoss perc', 'PD', 'Year', 'FGM', 'FG_perc', 'RedZone_perc',\n",
       "       'playoff_win_perc', 'Score_perc', 'Turnover_perc', 'RushYperG',\n",
       "       'PassYperG', 'PointperG', 'possperG', 'YallowedperG',\n",
       "       'PointallowedperG', 'perc_punt_20', 'Team_Arizona Cardinals',\n",
       "       'Team_Atlanta Falcons', 'Team_Baltimore Ravens',\n",
       "       'Team_Buffalo Bills', 'Team_Carolina Panthers',\n",
       "       'Team_Chicago Bears', 'Team_Cincinnati Bengals',\n",
       "       'Team_Cleveland Browns', 'Team_Dallas Cowboys',\n",
       "       'Team_Denver Broncos', 'Team_Detroit Lions',\n",
       "       'Team_Green Bay Packers', 'Team_Houston Texans',\n",
       "       'Team_Indianapolis Colts', 'Team_Jacksonville Jaguars',\n",
       "       'Team_Kansas City Chiefs', 'Team_Las Vegas Raiders',\n",
       "       'Team_Los Angeles Chargers', 'Team_Los Angeles Rams',\n",
       "       'Team_Miami Dolphins', 'Team_Minnesota Vikings',\n",
       "       'Team_New England Patriots', 'Team_New Orleans Saints',\n",
       "       'Team_New York Giants', 'Team_New York Jets',\n",
       "       'Team_Philadelphia Eagles', 'Team_Pittsburgh Steelers',\n",
       "       'Team_San Francisco 49ers', 'Team_Seattle Seahawks',\n",
       "       'Team_Tampa Bay Buccaneers', 'Team_Tennessee Titans',\n",
       "       'Team_Washington Commanders'], dtype='<U26')"
      ]
     },
     "execution_count": 10,
     "metadata": {},
     "output_type": "execute_result"
    }
   ],
   "source": [
    "array"
   ]
  },
  {
   "cell_type": "code",
   "execution_count": 11,
   "id": "5b722395",
   "metadata": {},
   "outputs": [
    {
     "data": {
      "text/plain": [
       "44"
      ]
     },
     "execution_count": 11,
     "metadata": {},
     "output_type": "execute_result"
    }
   ],
   "source": [
    "Team_index = np.where(array == team_string)[0]\n",
    "Team_index[0]"
   ]
  },
  {
   "cell_type": "code",
   "execution_count": 12,
   "id": "705fa9c2",
   "metadata": {},
   "outputs": [
    {
     "data": {
      "text/plain": [
       "1.0"
      ]
     },
     "execution_count": 12,
     "metadata": {},
     "output_type": "execute_result"
    }
   ],
   "source": [
    "team_string = \"Team_\"+Team\n",
    "Team_index = np.where(array == team_string)[0][0]\n",
    "user_input[Team_index]\n"
   ]
  },
  {
   "cell_type": "code",
   "execution_count": 13,
   "id": "d71f286c",
   "metadata": {},
   "outputs": [
    {
     "data": {
      "text/plain": [
       "1.0"
      ]
     },
     "execution_count": 13,
     "metadata": {},
     "output_type": "execute_result"
    }
   ],
   "source": [
    "team_string = \"Team_\"+Team\n",
    "Team_index = np.where(array == team_string)[0][0]\n",
    "user_input[Team_index] "
   ]
  },
  {
   "cell_type": "code",
   "execution_count": 21,
   "id": "2b283697",
   "metadata": {},
   "outputs": [
    {
     "data": {
      "text/html": [
       "<div>\n",
       "<style scoped>\n",
       "    .dataframe tbody tr th:only-of-type {\n",
       "        vertical-align: middle;\n",
       "    }\n",
       "\n",
       "    .dataframe tbody tr th {\n",
       "        vertical-align: top;\n",
       "    }\n",
       "\n",
       "    .dataframe thead th {\n",
       "        text-align: right;\n",
       "    }\n",
       "</style>\n",
       "<table border=\"1\" class=\"dataframe\">\n",
       "  <thead>\n",
       "    <tr style=\"text-align: right;\">\n",
       "      <th></th>\n",
       "      <th>Team</th>\n",
       "      <th>WinLoss perc</th>\n",
       "      <th>PD</th>\n",
       "      <th>Year</th>\n",
       "      <th>FGM</th>\n",
       "      <th>FG_perc</th>\n",
       "      <th>RedZone_perc</th>\n",
       "      <th>playoff_win_perc</th>\n",
       "      <th>Score_perc</th>\n",
       "      <th>Turnover_perc</th>\n",
       "      <th>RushYperG</th>\n",
       "      <th>PassYperG</th>\n",
       "      <th>PointperG</th>\n",
       "      <th>possperG</th>\n",
       "      <th>YallowedperG</th>\n",
       "      <th>PointallowedperG</th>\n",
       "      <th>perc_punt_20</th>\n",
       "      <th>Result</th>\n",
       "    </tr>\n",
       "  </thead>\n",
       "  <tbody>\n",
       "    <tr>\n",
       "      <th>379</th>\n",
       "      <td>Carolina Panthers</td>\n",
       "      <td>29.4</td>\n",
       "      <td>-100</td>\n",
       "      <td>2021</td>\n",
       "      <td>26</td>\n",
       "      <td>89.7</td>\n",
       "      <td>53.2</td>\n",
       "      <td>0.000000</td>\n",
       "      <td>29.2</td>\n",
       "      <td>14.9</td>\n",
       "      <td>108.4</td>\n",
       "      <td>190.5</td>\n",
       "      <td>17.9</td>\n",
       "      <td>0.511944</td>\n",
       "      <td>305.9</td>\n",
       "      <td>23.8</td>\n",
       "      <td>21.1</td>\n",
       "      <td>Loss</td>\n",
       "    </tr>\n",
       "    <tr>\n",
       "      <th>380</th>\n",
       "      <td>Los Angeles Rams</td>\n",
       "      <td>70.6</td>\n",
       "      <td>88</td>\n",
       "      <td>2021</td>\n",
       "      <td>32</td>\n",
       "      <td>94.1</td>\n",
       "      <td>60.0</td>\n",
       "      <td>70.588235</td>\n",
       "      <td>45.9</td>\n",
       "      <td>12.2</td>\n",
       "      <td>99.0</td>\n",
       "      <td>273.1</td>\n",
       "      <td>27.1</td>\n",
       "      <td>0.484167</td>\n",
       "      <td>344.9</td>\n",
       "      <td>21.9</td>\n",
       "      <td>47.8</td>\n",
       "      <td>Win</td>\n",
       "    </tr>\n",
       "    <tr>\n",
       "      <th>381</th>\n",
       "      <td>Arizona Cardinals</td>\n",
       "      <td>64.7</td>\n",
       "      <td>83</td>\n",
       "      <td>2021</td>\n",
       "      <td>30</td>\n",
       "      <td>81.1</td>\n",
       "      <td>60.0</td>\n",
       "      <td>64.705882</td>\n",
       "      <td>44.7</td>\n",
       "      <td>7.8</td>\n",
       "      <td>122.1</td>\n",
       "      <td>251.5</td>\n",
       "      <td>26.4</td>\n",
       "      <td>0.520833</td>\n",
       "      <td>329.2</td>\n",
       "      <td>21.5</td>\n",
       "      <td>20.1</td>\n",
       "      <td>Loss</td>\n",
       "    </tr>\n",
       "    <tr>\n",
       "      <th>382</th>\n",
       "      <td>San Francisco 49ers</td>\n",
       "      <td>58.8</td>\n",
       "      <td>62</td>\n",
       "      <td>2021</td>\n",
       "      <td>27</td>\n",
       "      <td>84.4</td>\n",
       "      <td>66.7</td>\n",
       "      <td>58.823529</td>\n",
       "      <td>41.2</td>\n",
       "      <td>11.5</td>\n",
       "      <td>127.4</td>\n",
       "      <td>248.3</td>\n",
       "      <td>25.1</td>\n",
       "      <td>0.519167</td>\n",
       "      <td>310.0</td>\n",
       "      <td>21.5</td>\n",
       "      <td>38.0</td>\n",
       "      <td>Loss</td>\n",
       "    </tr>\n",
       "    <tr>\n",
       "      <th>383</th>\n",
       "      <td>Seattle Seahawks</td>\n",
       "      <td>41.2</td>\n",
       "      <td>29</td>\n",
       "      <td>2021</td>\n",
       "      <td>17</td>\n",
       "      <td>73.9</td>\n",
       "      <td>64.6</td>\n",
       "      <td>0.000000</td>\n",
       "      <td>34.8</td>\n",
       "      <td>7.0</td>\n",
       "      <td>122.0</td>\n",
       "      <td>201.9</td>\n",
       "      <td>23.2</td>\n",
       "      <td>0.425833</td>\n",
       "      <td>379.1</td>\n",
       "      <td>21.5</td>\n",
       "      <td>48.2</td>\n",
       "      <td>Loss</td>\n",
       "    </tr>\n",
       "  </tbody>\n",
       "</table>\n",
       "</div>"
      ],
      "text/plain": [
       "                    Team  WinLoss perc   PD  Year  FGM  FG_perc  RedZone_perc  \\\n",
       "379    Carolina Panthers          29.4 -100  2021   26     89.7          53.2   \n",
       "380     Los Angeles Rams          70.6   88  2021   32     94.1          60.0   \n",
       "381    Arizona Cardinals          64.7   83  2021   30     81.1          60.0   \n",
       "382  San Francisco 49ers          58.8   62  2021   27     84.4          66.7   \n",
       "383     Seattle Seahawks          41.2   29  2021   17     73.9          64.6   \n",
       "\n",
       "     playoff_win_perc  Score_perc  Turnover_perc  RushYperG  PassYperG  \\\n",
       "379          0.000000        29.2           14.9      108.4      190.5   \n",
       "380         70.588235        45.9           12.2       99.0      273.1   \n",
       "381         64.705882        44.7            7.8      122.1      251.5   \n",
       "382         58.823529        41.2           11.5      127.4      248.3   \n",
       "383          0.000000        34.8            7.0      122.0      201.9   \n",
       "\n",
       "     PointperG  possperG  YallowedperG  PointallowedperG  perc_punt_20 Result  \n",
       "379       17.9  0.511944         305.9              23.8          21.1   Loss  \n",
       "380       27.1  0.484167         344.9              21.9          47.8    Win  \n",
       "381       26.4  0.520833         329.2              21.5          20.1   Loss  \n",
       "382       25.1  0.519167         310.0              21.5          38.0   Loss  \n",
       "383       23.2  0.425833         379.1              21.5          48.2   Loss  "
      ]
     },
     "execution_count": 21,
     "metadata": {},
     "output_type": "execute_result"
    }
   ],
   "source": [
    "nfl.tail()"
   ]
  },
  {
   "cell_type": "code",
   "execution_count": null,
   "id": "6de0bd02",
   "metadata": {},
   "outputs": [],
   "source": []
  }
 ],
 "metadata": {
  "kernelspec": {
   "display_name": "Python 3 (ipykernel)",
   "language": "python",
   "name": "python3"
  },
  "language_info": {
   "codemirror_mode": {
    "name": "ipython",
    "version": 3
   },
   "file_extension": ".py",
   "mimetype": "text/x-python",
   "name": "python",
   "nbconvert_exporter": "python",
   "pygments_lexer": "ipython3",
   "version": "3.9.12"
  }
 },
 "nbformat": 4,
 "nbformat_minor": 5
}
